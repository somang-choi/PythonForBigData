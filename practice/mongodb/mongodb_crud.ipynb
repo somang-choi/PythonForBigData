{
 "cells": [
  {
   "cell_type": "code",
   "execution_count": 2,
   "metadata": {
    "collapsed": true
   },
   "outputs": [],
   "source": [
    "import pymongo\n",
    "from pymongo import MongoClient"
   ]
  },
  {
   "cell_type": "code",
   "execution_count": 5,
   "metadata": {
    "collapsed": true
   },
   "outputs": [],
   "source": [
    "# 1. MongoClient로 MongoDB Server에 접속\n",
    "url = '127.0.0.1'\n",
    "port = 27017\n",
    "client = MongoClient(url, port)"
   ]
  },
  {
   "cell_type": "code",
   "execution_count": 6,
   "metadata": {
    "collapsed": true
   },
   "outputs": [],
   "source": [
    "# 2. 데이터베이스 접속. \n",
    "# sample이라는 이름의  DB가 없으면 생성, 있으면 연결\n",
    "db = client.sample"
   ]
  },
  {
   "cell_type": "code",
   "execution_count": 7,
   "metadata": {
    "collapsed": true
   },
   "outputs": [],
   "source": [
    "#3. Collection 접속\n",
    "# test 라는 collection이 없으면 생성, 있으면 연결\n",
    "collection = db.test"
   ]
  },
  {
   "cell_type": "code",
   "execution_count": 9,
   "metadata": {},
   "outputs": [
    {
     "data": {
      "text/plain": [
       "<pymongo.results.InsertOneResult at 0x17333d10848>"
      ]
     },
     "execution_count": 9,
     "metadata": {},
     "output_type": "execute_result"
    }
   ],
   "source": [
    "# Create\n",
    "collection.insert_one({\n",
    "    '이름': '최소망',\n",
    "    '직업': 'Web 개발자'\n",
    "})"
   ]
  },
  {
   "cell_type": "code",
   "execution_count": 10,
   "metadata": {},
   "outputs": [
    {
     "data": {
      "text/plain": [
       "<pymongo.results.InsertManyResult at 0x17333d68188>"
      ]
     },
     "execution_count": 10,
     "metadata": {},
     "output_type": "execute_result"
    }
   ],
   "source": [
    "collection.insert_many([\n",
    "    {'이름': '박지민', '직업': 'BTS 메인댄서'},\n",
    "    {'이름': 'AugustD', '직업': '래퍼'},\n",
    "    {'이름': '전정국', '직업': 'BTS 메인보컬'},\n",
    "    {'이름': 'Rap Monster', '직업': '동시통역사'},\n",
    "    {'이름': '제이홉', '직업': '스트릿댄서'}\n",
    "])"
   ]
  },
  {
   "cell_type": "code",
   "execution_count": 12,
   "metadata": {},
   "outputs": [
    {
     "name": "stdout",
     "output_type": "stream",
     "text": [
      "{'_id': ObjectId('5f1937d820ed382d2d9f1fec'), '이름': '최소망', '직업': 'Web 개발자'}\n",
      "{'_id': ObjectId('5f19394320ed382d2d9f1fed'), '이름': '박지민', '직업': 'BTS 메인댄서'}\n",
      "{'_id': ObjectId('5f19394320ed382d2d9f1fee'), '이름': 'AugustD', '직업': '래퍼'}\n",
      "{'_id': ObjectId('5f19394320ed382d2d9f1fef'), '이름': '전정국', '직업': 'BTS 메인보컬'}\n",
      "{'_id': ObjectId('5f19394320ed382d2d9f1ff0'), '이름': 'Rap Monster', '직업': '동시통역사'}\n",
      "{'_id': ObjectId('5f19394320ed382d2d9f1ff1'), '이름': '제이홉', '직업': '스트릿댄서'}\n"
     ]
    }
   ],
   "source": [
    "for item in collection.find():\n",
    "    print(item)"
   ]
  },
  {
   "cell_type": "code",
   "execution_count": 13,
   "metadata": {},
   "outputs": [
    {
     "data": {
      "text/plain": [
       "{'_id': ObjectId('5f1937d820ed382d2d9f1fec'), '이름': '최소망', '직업': 'Web 개발자'}"
      ]
     },
     "execution_count": 13,
     "metadata": {},
     "output_type": "execute_result"
    }
   ],
   "source": [
    "collection.find_one({'이름': '최소망'})"
   ]
  },
  {
   "cell_type": "code",
   "execution_count": 14,
   "metadata": {},
   "outputs": [
    {
     "name": "stdout",
     "output_type": "stream",
     "text": [
      "{'_id': ObjectId('5f19394320ed382d2d9f1fee'), '이름': 'AugustD', '직업': '래퍼'}\n",
      "{'_id': ObjectId('5f19394320ed382d2d9f1ff0'), '이름': 'Rap Monster', '직업': '동시통역사'}\n",
      "{'_id': ObjectId('5f19394320ed382d2d9f1fed'), '이름': '박지민', '직업': 'BTS 메인댄서'}\n",
      "{'_id': ObjectId('5f19394320ed382d2d9f1fef'), '이름': '전정국', '직업': 'BTS 메인보컬'}\n",
      "{'_id': ObjectId('5f19394320ed382d2d9f1ff1'), '이름': '제이홉', '직업': '스트릿댄서'}\n",
      "{'_id': ObjectId('5f1937d820ed382d2d9f1fec'), '이름': '최소망', '직업': 'Web 개발자'}\n"
     ]
    }
   ],
   "source": [
    "for item in collection.find().sort('이름'):\n",
    "    print(item)"
   ]
  },
  {
   "cell_type": "code",
   "execution_count": 15,
   "metadata": {},
   "outputs": [
    {
     "name": "stdout",
     "output_type": "stream",
     "text": [
      "{'_id': ObjectId('5f1937d820ed382d2d9f1fec'), '이름': '최소망', '직업': 'Web 개발자'}\n",
      "{'_id': ObjectId('5f19394320ed382d2d9f1ff1'), '이름': '제이홉', '직업': '스트릿댄서'}\n",
      "{'_id': ObjectId('5f19394320ed382d2d9f1fef'), '이름': '전정국', '직업': 'BTS 메인보컬'}\n",
      "{'_id': ObjectId('5f19394320ed382d2d9f1fed'), '이름': '박지민', '직업': 'BTS 메인댄서'}\n",
      "{'_id': ObjectId('5f19394320ed382d2d9f1ff0'), '이름': 'Rap Monster', '직업': '동시통역사'}\n",
      "{'_id': ObjectId('5f19394320ed382d2d9f1fee'), '이름': 'AugustD', '직업': '래퍼'}\n"
     ]
    }
   ],
   "source": [
    "for item in collection.find().sort('이름', pymongo.DESCENDING):\n",
    "    print(item)"
   ]
  },
  {
   "cell_type": "code",
   "execution_count": 16,
   "metadata": {
    "collapsed": true
   },
   "outputs": [],
   "source": [
    "# Update\n",
    "# update(): deprecated\n",
    "# update_one()\n",
    "# update_many()"
   ]
  },
  {
   "cell_type": "code",
   "execution_count": 17,
   "metadata": {},
   "outputs": [
    {
     "data": {
      "text/plain": [
       "<pymongo.results.UpdateResult at 0x17333d64e88>"
      ]
     },
     "execution_count": 17,
     "metadata": {},
     "output_type": "execute_result"
    }
   ],
   "source": [
    "collection.update_one(\n",
    "    {'이름': '최소망'},\n",
    "    {'$set': {'직업': '돈 많은 백수'}}\n",
    ")"
   ]
  },
  {
   "cell_type": "code",
   "execution_count": 19,
   "metadata": {},
   "outputs": [
    {
     "name": "stdout",
     "output_type": "stream",
     "text": [
      "{'_id': ObjectId('5f1937d820ed382d2d9f1fec'), '이름': '최소망', '직업': '돈 많은 백수'}\n",
      "{'_id': ObjectId('5f19394320ed382d2d9f1ff1'), '이름': '제이홉', '직업': '스트릿댄서'}\n",
      "{'_id': ObjectId('5f19394320ed382d2d9f1fef'), '이름': '전정국', '직업': 'BTS 메인보컬'}\n",
      "{'_id': ObjectId('5f19394320ed382d2d9f1fed'), '이름': '박지민', '직업': 'BTS 메인댄서'}\n",
      "{'_id': ObjectId('5f19394320ed382d2d9f1ff0'), '이름': 'Rap Monster', '직업': '동시통역사'}\n",
      "{'_id': ObjectId('5f19394320ed382d2d9f1fee'), '이름': 'AugustD', '직업': '래퍼'}\n"
     ]
    }
   ],
   "source": [
    "for item in collection.find().sort('이름', pymongo.DESCENDING):\n",
    "    print(item)"
   ]
  },
  {
   "cell_type": "code",
   "execution_count": 20,
   "metadata": {},
   "outputs": [
    {
     "data": {
      "text/plain": [
       "<pymongo.results.InsertManyResult at 0x173324d72c8>"
      ]
     },
     "execution_count": 20,
     "metadata": {},
     "output_type": "execute_result"
    }
   ],
   "source": [
    "collection.insert_many([\n",
    "    {'이름': '이상윤', '직업': '배우'},\n",
    "    {'이름': '유재석', '직업': '배우'},\n",
    "    {'이름': '황광희', '직업': '배우'},\n",
    "])"
   ]
  },
  {
   "cell_type": "code",
   "execution_count": 21,
   "metadata": {},
   "outputs": [
    {
     "data": {
      "text/plain": [
       "<pymongo.results.UpdateResult at 0x17333d60708>"
      ]
     },
     "execution_count": 21,
     "metadata": {},
     "output_type": "execute_result"
    }
   ],
   "source": [
    "collection.update_many(\n",
    "    {'직업': '배우'},\n",
    "    {'$set': {'직업': '연예인'}}\n",
    ")"
   ]
  },
  {
   "cell_type": "code",
   "execution_count": 23,
   "metadata": {},
   "outputs": [
    {
     "name": "stdout",
     "output_type": "stream",
     "text": [
      "{'_id': ObjectId('5f1937d820ed382d2d9f1fec'), '이름': '최소망', '직업': '돈 많은 백수'}\n",
      "{'_id': ObjectId('5f19394320ed382d2d9f1fed'), '이름': '박지민', '직업': 'BTS 메인댄서'}\n",
      "{'_id': ObjectId('5f19394320ed382d2d9f1fee'), '이름': 'AugustD', '직업': '래퍼'}\n",
      "{'_id': ObjectId('5f19394320ed382d2d9f1fef'), '이름': '전정국', '직업': 'BTS 메인보컬'}\n",
      "{'_id': ObjectId('5f19394320ed382d2d9f1ff0'), '이름': 'Rap Monster', '직업': '동시통역사'}\n",
      "{'_id': ObjectId('5f19394320ed382d2d9f1ff1'), '이름': '제이홉', '직업': '스트릿댄서'}\n",
      "{'_id': ObjectId('5f193f7520ed382d2d9f1ff2'), '이름': '이상윤', '직업': '연예인'}\n",
      "{'_id': ObjectId('5f193f7520ed382d2d9f1ff3'), '이름': '유재석', '직업': '연예인'}\n",
      "{'_id': ObjectId('5f193f7520ed382d2d9f1ff4'), '이름': '황광희', '직업': '연예인'}\n"
     ]
    }
   ],
   "source": [
    "for item in collection.find():\n",
    "    print(item)"
   ]
  },
  {
   "cell_type": "code",
   "execution_count": 24,
   "metadata": {
    "collapsed": true
   },
   "outputs": [],
   "source": [
    "# Delete\n",
    "# remove(): deprecated\n",
    "# delete_one()\n",
    "# delete_many()"
   ]
  },
  {
   "cell_type": "code",
   "execution_count": 25,
   "metadata": {},
   "outputs": [
    {
     "data": {
      "text/plain": [
       "<pymongo.results.DeleteResult at 0x17333d32b48>"
      ]
     },
     "execution_count": 25,
     "metadata": {},
     "output_type": "execute_result"
    }
   ],
   "source": [
    "collection.delete_one({'이름': '유재석'})"
   ]
  },
  {
   "cell_type": "code",
   "execution_count": 26,
   "metadata": {},
   "outputs": [
    {
     "name": "stdout",
     "output_type": "stream",
     "text": [
      "{'_id': ObjectId('5f1937d820ed382d2d9f1fec'), '이름': '최소망', '직업': '돈 많은 백수'}\n",
      "{'_id': ObjectId('5f19394320ed382d2d9f1fed'), '이름': '박지민', '직업': 'BTS 메인댄서'}\n",
      "{'_id': ObjectId('5f19394320ed382d2d9f1fee'), '이름': 'AugustD', '직업': '래퍼'}\n",
      "{'_id': ObjectId('5f19394320ed382d2d9f1fef'), '이름': '전정국', '직업': 'BTS 메인보컬'}\n",
      "{'_id': ObjectId('5f19394320ed382d2d9f1ff0'), '이름': 'Rap Monster', '직업': '동시통역사'}\n",
      "{'_id': ObjectId('5f19394320ed382d2d9f1ff1'), '이름': '제이홉', '직업': '스트릿댄서'}\n",
      "{'_id': ObjectId('5f193f7520ed382d2d9f1ff2'), '이름': '이상윤', '직업': '연예인'}\n",
      "{'_id': ObjectId('5f193f7520ed382d2d9f1ff4'), '이름': '황광희', '직업': '연예인'}\n"
     ]
    }
   ],
   "source": [
    "for item in collection.find():\n",
    "    print(item)"
   ]
  },
  {
   "cell_type": "code",
   "execution_count": 27,
   "metadata": {},
   "outputs": [
    {
     "data": {
      "text/plain": [
       "<pymongo.results.DeleteResult at 0x17333d66ec8>"
      ]
     },
     "execution_count": 27,
     "metadata": {},
     "output_type": "execute_result"
    }
   ],
   "source": [
    "collection.delete_many({'직업': '연예인'})"
   ]
  },
  {
   "cell_type": "code",
   "execution_count": 28,
   "metadata": {},
   "outputs": [
    {
     "name": "stdout",
     "output_type": "stream",
     "text": [
      "{'_id': ObjectId('5f1937d820ed382d2d9f1fec'), '이름': '최소망', '직업': '돈 많은 백수'}\n",
      "{'_id': ObjectId('5f19394320ed382d2d9f1fed'), '이름': '박지민', '직업': 'BTS 메인댄서'}\n",
      "{'_id': ObjectId('5f19394320ed382d2d9f1fee'), '이름': 'AugustD', '직업': '래퍼'}\n",
      "{'_id': ObjectId('5f19394320ed382d2d9f1fef'), '이름': '전정국', '직업': 'BTS 메인보컬'}\n",
      "{'_id': ObjectId('5f19394320ed382d2d9f1ff0'), '이름': 'Rap Monster', '직업': '동시통역사'}\n",
      "{'_id': ObjectId('5f19394320ed382d2d9f1ff1'), '이름': '제이홉', '직업': '스트릿댄서'}\n"
     ]
    }
   ],
   "source": [
    "for item in collection.find():\n",
    "    print(item)"
   ]
  },
  {
   "cell_type": "code",
   "execution_count": 29,
   "metadata": {},
   "outputs": [
    {
     "data": {
      "text/plain": [
       "<pymongo.results.InsertManyResult at 0x17333d77e08>"
      ]
     },
     "execution_count": 29,
     "metadata": {},
     "output_type": "execute_result"
    }
   ],
   "source": [
    "# 기타 유용한 함수들\n",
    "collection.insert_many([\n",
    "    {'이름': '이효리', '직업': '농부'},\n",
    "    {'이름': '이상순', '직업': '농부'},\n",
    "    {'이름': '황광희', '직업': '가수'},\n",
    "    {'이름': '쯔양', '직업': '유튜버'},\n",
    "    {'이름': '양팡', '직업': '유튜버'},\n",
    "    {'이름': '노마드코더', '직업': '개발자'},\n",
    "    {'이름': '최소망', '직업': '개발자'},\n",
    "    {'이름': '김대중', '직업': '건물주'},\n",
    "    {'이름': '김대중', '직업': '전대통령'},\n",
    "])"
   ]
  },
  {
   "cell_type": "code",
   "execution_count": 30,
   "metadata": {},
   "outputs": [
    {
     "data": {
      "text/plain": [
       "2"
      ]
     },
     "execution_count": 30,
     "metadata": {},
     "output_type": "execute_result"
    }
   ],
   "source": [
    "collection.count_documents({'직업': '농부'})"
   ]
  },
  {
   "cell_type": "code",
   "execution_count": 31,
   "metadata": {},
   "outputs": [
    {
     "name": "stderr",
     "output_type": "stream",
     "text": [
      "C:\\ProgramData\\Anaconda3\\lib\\site-packages\\ipykernel_launcher.py:1: DeprecationWarning: collection_names is deprecated. Use list_collection_names instead.\n",
      "  \"\"\"Entry point for launching an IPython kernel.\n"
     ]
    },
    {
     "data": {
      "text/plain": [
       "['test']"
      ]
     },
     "execution_count": 31,
     "metadata": {},
     "output_type": "execute_result"
    }
   ],
   "source": [
    "db.collection_names()"
   ]
  },
  {
   "cell_type": "code",
   "execution_count": 32,
   "metadata": {},
   "outputs": [
    {
     "data": {
      "text/plain": [
       "['test']"
      ]
     },
     "execution_count": 32,
     "metadata": {},
     "output_type": "execute_result"
    }
   ],
   "source": [
    "db.list_collection_names()"
   ]
  },
  {
   "cell_type": "code",
   "execution_count": 33,
   "metadata": {},
   "outputs": [
    {
     "data": {
      "text/plain": [
       "['admin', 'config', 'local', 'sample']"
      ]
     },
     "execution_count": 33,
     "metadata": {},
     "output_type": "execute_result"
    }
   ],
   "source": [
    "client.list_database_names()"
   ]
  },
  {
   "cell_type": "code",
   "execution_count": 34,
   "metadata": {},
   "outputs": [
    {
     "data": {
      "text/plain": [
       "{'nIndexesWas': 1, 'ns': 'sample.test', 'ok': 1.0}"
      ]
     },
     "execution_count": 34,
     "metadata": {},
     "output_type": "execute_result"
    }
   ],
   "source": [
    "db.drop_collection(collection)"
   ]
  },
  {
   "cell_type": "code",
   "execution_count": 35,
   "metadata": {},
   "outputs": [
    {
     "data": {
      "text/plain": [
       "[]"
      ]
     },
     "execution_count": 35,
     "metadata": {},
     "output_type": "execute_result"
    }
   ],
   "source": [
    "db.list_collection_names()"
   ]
  },
  {
   "cell_type": "code",
   "execution_count": 36,
   "metadata": {
    "collapsed": true
   },
   "outputs": [],
   "source": [
    "client.drop_database(db)"
   ]
  },
  {
   "cell_type": "code",
   "execution_count": null,
   "metadata": {
    "collapsed": true
   },
   "outputs": [],
   "source": []
  }
 ],
 "metadata": {
  "kernelspec": {
   "display_name": "Python 3",
   "language": "python",
   "name": "python3"
  },
  "language_info": {
   "codemirror_mode": {
    "name": "ipython",
    "version": 3
   },
   "file_extension": ".py",
   "mimetype": "text/x-python",
   "name": "python",
   "nbconvert_exporter": "python",
   "pygments_lexer": "ipython3",
   "version": "3.6.3"
  }
 },
 "nbformat": 4,
 "nbformat_minor": 2
}
