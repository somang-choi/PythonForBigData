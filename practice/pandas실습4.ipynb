{
 "cells": [
  {
   "cell_type": "code",
   "execution_count": 1,
   "metadata": {
    "collapsed": true
   },
   "outputs": [],
   "source": [
    "import numpy as np\n",
    "import pandas as pd"
   ]
  },
  {
   "cell_type": "code",
   "execution_count": 2,
   "metadata": {},
   "outputs": [
    {
     "data": {
      "text/html": [
       "<div>\n",
       "<style>\n",
       "    .dataframe thead tr:only-child th {\n",
       "        text-align: right;\n",
       "    }\n",
       "\n",
       "    .dataframe thead th {\n",
       "        text-align: left;\n",
       "    }\n",
       "\n",
       "    .dataframe tbody tr th {\n",
       "        vertical-align: top;\n",
       "    }\n",
       "</style>\n",
       "<table border=\"1\" class=\"dataframe\">\n",
       "  <thead>\n",
       "    <tr style=\"text-align: right;\">\n",
       "      <th></th>\n",
       "      <th>first</th>\n",
       "      <th>second</th>\n",
       "    </tr>\n",
       "  </thead>\n",
       "  <tbody>\n",
       "    <tr>\n",
       "      <th>a</th>\n",
       "      <td>9.90</td>\n",
       "      <td>8.8</td>\n",
       "    </tr>\n",
       "    <tr>\n",
       "      <th>b</th>\n",
       "      <td>NaN</td>\n",
       "      <td>6.6</td>\n",
       "    </tr>\n",
       "    <tr>\n",
       "      <th>c</th>\n",
       "      <td>7.70</td>\n",
       "      <td>NaN</td>\n",
       "    </tr>\n",
       "    <tr>\n",
       "      <th>d</th>\n",
       "      <td>0.99</td>\n",
       "      <td>9.8</td>\n",
       "    </tr>\n",
       "  </tbody>\n",
       "</table>\n",
       "</div>"
      ],
      "text/plain": [
       "   first  second\n",
       "a   9.90     8.8\n",
       "b    NaN     6.6\n",
       "c   7.70     NaN\n",
       "d   0.99     9.8"
      ]
     },
     "execution_count": 2,
     "metadata": {},
     "output_type": "execute_result"
    }
   ],
   "source": [
    "data = [\n",
    "    [9.9, 8.8],\n",
    "    [np.nan, 6.6],\n",
    "    [7.7, np.nan],\n",
    "    [0.99, 9.8]\n",
    "]\n",
    "df = pd.DataFrame(data, columns=[\"first\", \"second\"], index=[\"a\", \"b\", \"c\", \"d\"])\n",
    "df"
   ]
  },
  {
   "cell_type": "code",
   "execution_count": 3,
   "metadata": {},
   "outputs": [
    {
     "data": {
      "text/plain": [
       "first     18.59\n",
       "second    25.20\n",
       "dtype: float64"
      ]
     },
     "execution_count": 3,
     "metadata": {},
     "output_type": "execute_result"
    }
   ],
   "source": [
    "df.sum(axis=0) # 행의 진행방향 즉, 열의 개수만큼 return됨"
   ]
  },
  {
   "cell_type": "code",
   "execution_count": 12,
   "metadata": {},
   "outputs": [
    {
     "data": {
      "text/plain": [
       "18.59"
      ]
     },
     "execution_count": 12,
     "metadata": {},
     "output_type": "execute_result"
    }
   ],
   "source": [
    "df['first'].sum() # first column에 대해 합계"
   ]
  },
  {
   "cell_type": "code",
   "execution_count": 10,
   "metadata": {},
   "outputs": [
    {
     "data": {
      "text/plain": [
       "8.4"
      ]
     },
     "execution_count": 10,
     "metadata": {},
     "output_type": "execute_result"
    }
   ],
   "source": [
    "df['second'].mean() # second column에 대해 평균"
   ]
  },
  {
   "cell_type": "code",
   "execution_count": 11,
   "metadata": {},
   "outputs": [
    {
     "data": {
      "text/plain": [
       "18.700000000000003"
      ]
     },
     "execution_count": 11,
     "metadata": {},
     "output_type": "execute_result"
    }
   ],
   "source": [
    "df.loc['a'].sum() # a row에 대해 합계"
   ]
  },
  {
   "cell_type": "code",
   "execution_count": 13,
   "metadata": {},
   "outputs": [
    {
     "data": {
      "text/plain": [
       "a    9.350\n",
       "b      NaN\n",
       "c      NaN\n",
       "d    5.395\n",
       "dtype: float64"
      ]
     },
     "execution_count": 13,
     "metadata": {},
     "output_type": "execute_result"
    }
   ],
   "source": [
    "df.mean(axis=1, skipna=False) # NaN가 들어있으면 계산하지 않음"
   ]
  },
  {
   "cell_type": "code",
   "execution_count": 14,
   "metadata": {
    "collapsed": true
   },
   "outputs": [],
   "source": [
    "first_mean = df.mean(axis=0)['first']"
   ]
  },
  {
   "cell_type": "code",
   "execution_count": 15,
   "metadata": {},
   "outputs": [
    {
     "data": {
      "text/plain": [
       "6.196666666666666"
      ]
     },
     "execution_count": 15,
     "metadata": {},
     "output_type": "execute_result"
    }
   ],
   "source": [
    "first_mean"
   ]
  },
  {
   "cell_type": "code",
   "execution_count": 16,
   "metadata": {
    "collapsed": true
   },
   "outputs": [],
   "source": [
    "second_min = df.min(axis=0)['second']"
   ]
  },
  {
   "cell_type": "code",
   "execution_count": 17,
   "metadata": {},
   "outputs": [
    {
     "data": {
      "text/plain": [
       "6.6"
      ]
     },
     "execution_count": 17,
     "metadata": {},
     "output_type": "execute_result"
    }
   ],
   "source": [
    "second_min"
   ]
  },
  {
   "cell_type": "code",
   "execution_count": 19,
   "metadata": {
    "collapsed": true
   },
   "outputs": [],
   "source": [
    "df['first'] = df['first'].fillna(value=first_mean)"
   ]
  },
  {
   "cell_type": "code",
   "execution_count": 20,
   "metadata": {},
   "outputs": [
    {
     "data": {
      "text/html": [
       "<div>\n",
       "<style>\n",
       "    .dataframe thead tr:only-child th {\n",
       "        text-align: right;\n",
       "    }\n",
       "\n",
       "    .dataframe thead th {\n",
       "        text-align: left;\n",
       "    }\n",
       "\n",
       "    .dataframe tbody tr th {\n",
       "        vertical-align: top;\n",
       "    }\n",
       "</style>\n",
       "<table border=\"1\" class=\"dataframe\">\n",
       "  <thead>\n",
       "    <tr style=\"text-align: right;\">\n",
       "      <th></th>\n",
       "      <th>first</th>\n",
       "      <th>second</th>\n",
       "    </tr>\n",
       "  </thead>\n",
       "  <tbody>\n",
       "    <tr>\n",
       "      <th>a</th>\n",
       "      <td>9.900000</td>\n",
       "      <td>8.8</td>\n",
       "    </tr>\n",
       "    <tr>\n",
       "      <th>b</th>\n",
       "      <td>6.196667</td>\n",
       "      <td>6.6</td>\n",
       "    </tr>\n",
       "    <tr>\n",
       "      <th>c</th>\n",
       "      <td>7.700000</td>\n",
       "      <td>NaN</td>\n",
       "    </tr>\n",
       "    <tr>\n",
       "      <th>d</th>\n",
       "      <td>0.990000</td>\n",
       "      <td>9.8</td>\n",
       "    </tr>\n",
       "  </tbody>\n",
       "</table>\n",
       "</div>"
      ],
      "text/plain": [
       "      first  second\n",
       "a  9.900000     8.8\n",
       "b  6.196667     6.6\n",
       "c  7.700000     NaN\n",
       "d  0.990000     9.8"
      ]
     },
     "execution_count": 20,
     "metadata": {},
     "output_type": "execute_result"
    }
   ],
   "source": [
    "df"
   ]
  },
  {
   "cell_type": "code",
   "execution_count": 21,
   "metadata": {
    "collapsed": true
   },
   "outputs": [],
   "source": [
    "df['second'] = df['second'].fillna(value=second_min)"
   ]
  },
  {
   "cell_type": "code",
   "execution_count": 22,
   "metadata": {},
   "outputs": [
    {
     "data": {
      "text/html": [
       "<div>\n",
       "<style>\n",
       "    .dataframe thead tr:only-child th {\n",
       "        text-align: right;\n",
       "    }\n",
       "\n",
       "    .dataframe thead th {\n",
       "        text-align: left;\n",
       "    }\n",
       "\n",
       "    .dataframe tbody tr th {\n",
       "        vertical-align: top;\n",
       "    }\n",
       "</style>\n",
       "<table border=\"1\" class=\"dataframe\">\n",
       "  <thead>\n",
       "    <tr style=\"text-align: right;\">\n",
       "      <th></th>\n",
       "      <th>first</th>\n",
       "      <th>second</th>\n",
       "    </tr>\n",
       "  </thead>\n",
       "  <tbody>\n",
       "    <tr>\n",
       "      <th>a</th>\n",
       "      <td>9.900000</td>\n",
       "      <td>8.8</td>\n",
       "    </tr>\n",
       "    <tr>\n",
       "      <th>b</th>\n",
       "      <td>6.196667</td>\n",
       "      <td>6.6</td>\n",
       "    </tr>\n",
       "    <tr>\n",
       "      <th>c</th>\n",
       "      <td>7.700000</td>\n",
       "      <td>6.6</td>\n",
       "    </tr>\n",
       "    <tr>\n",
       "      <th>d</th>\n",
       "      <td>0.990000</td>\n",
       "      <td>9.8</td>\n",
       "    </tr>\n",
       "  </tbody>\n",
       "</table>\n",
       "</div>"
      ],
      "text/plain": [
       "      first  second\n",
       "a  9.900000     8.8\n",
       "b  6.196667     6.6\n",
       "c  7.700000     6.6\n",
       "d  0.990000     9.8"
      ]
     },
     "execution_count": 22,
     "metadata": {},
     "output_type": "execute_result"
    }
   ],
   "source": [
    "df"
   ]
  },
  {
   "cell_type": "code",
   "execution_count": 25,
   "metadata": {
    "collapsed": true
   },
   "outputs": [],
   "source": [
    "df2 = pd.DataFrame(\n",
    "    np.random.randn(6, 4),\n",
    "    columns=[\"A\", \"B\", \"C\", \"D\"],\n",
    "    index=pd.date_range(\"20180220\", periods=6)\n",
    ")"
   ]
  },
  {
   "cell_type": "code",
   "execution_count": 26,
   "metadata": {},
   "outputs": [
    {
     "data": {
      "text/html": [
       "<div>\n",
       "<style>\n",
       "    .dataframe thead tr:only-child th {\n",
       "        text-align: right;\n",
       "    }\n",
       "\n",
       "    .dataframe thead th {\n",
       "        text-align: left;\n",
       "    }\n",
       "\n",
       "    .dataframe tbody tr th {\n",
       "        vertical-align: top;\n",
       "    }\n",
       "</style>\n",
       "<table border=\"1\" class=\"dataframe\">\n",
       "  <thead>\n",
       "    <tr style=\"text-align: right;\">\n",
       "      <th></th>\n",
       "      <th>A</th>\n",
       "      <th>B</th>\n",
       "      <th>C</th>\n",
       "      <th>D</th>\n",
       "    </tr>\n",
       "  </thead>\n",
       "  <tbody>\n",
       "    <tr>\n",
       "      <th>2018-02-20</th>\n",
       "      <td>-0.778420</td>\n",
       "      <td>-0.625813</td>\n",
       "      <td>-0.670107</td>\n",
       "      <td>1.758712</td>\n",
       "    </tr>\n",
       "    <tr>\n",
       "      <th>2018-02-21</th>\n",
       "      <td>-0.683797</td>\n",
       "      <td>1.334712</td>\n",
       "      <td>-1.552580</td>\n",
       "      <td>0.513848</td>\n",
       "    </tr>\n",
       "    <tr>\n",
       "      <th>2018-02-22</th>\n",
       "      <td>0.313467</td>\n",
       "      <td>-0.834368</td>\n",
       "      <td>0.474769</td>\n",
       "      <td>1.552199</td>\n",
       "    </tr>\n",
       "    <tr>\n",
       "      <th>2018-02-23</th>\n",
       "      <td>0.569629</td>\n",
       "      <td>0.239116</td>\n",
       "      <td>-0.122799</td>\n",
       "      <td>-1.488369</td>\n",
       "    </tr>\n",
       "    <tr>\n",
       "      <th>2018-02-24</th>\n",
       "      <td>-0.574625</td>\n",
       "      <td>0.759210</td>\n",
       "      <td>0.328260</td>\n",
       "      <td>-2.034910</td>\n",
       "    </tr>\n",
       "    <tr>\n",
       "      <th>2018-02-25</th>\n",
       "      <td>-2.600913</td>\n",
       "      <td>-0.528393</td>\n",
       "      <td>-1.315435</td>\n",
       "      <td>-1.321746</td>\n",
       "    </tr>\n",
       "  </tbody>\n",
       "</table>\n",
       "</div>"
      ],
      "text/plain": [
       "                   A         B         C         D\n",
       "2018-02-20 -0.778420 -0.625813 -0.670107  1.758712\n",
       "2018-02-21 -0.683797  1.334712 -1.552580  0.513848\n",
       "2018-02-22  0.313467 -0.834368  0.474769  1.552199\n",
       "2018-02-23  0.569629  0.239116 -0.122799 -1.488369\n",
       "2018-02-24 -0.574625  0.759210  0.328260 -2.034910\n",
       "2018-02-25 -2.600913 -0.528393 -1.315435 -1.321746"
      ]
     },
     "execution_count": 26,
     "metadata": {},
     "output_type": "execute_result"
    }
   ],
   "source": [
    "df2"
   ]
  },
  {
   "cell_type": "code",
   "execution_count": 27,
   "metadata": {},
   "outputs": [
    {
     "data": {
      "text/html": [
       "<div>\n",
       "<style>\n",
       "    .dataframe thead tr:only-child th {\n",
       "        text-align: right;\n",
       "    }\n",
       "\n",
       "    .dataframe thead th {\n",
       "        text-align: left;\n",
       "    }\n",
       "\n",
       "    .dataframe tbody tr th {\n",
       "        vertical-align: top;\n",
       "    }\n",
       "</style>\n",
       "<table border=\"1\" class=\"dataframe\">\n",
       "  <thead>\n",
       "    <tr style=\"text-align: right;\">\n",
       "      <th></th>\n",
       "      <th>A</th>\n",
       "      <th>B</th>\n",
       "      <th>C</th>\n",
       "      <th>D</th>\n",
       "    </tr>\n",
       "  </thead>\n",
       "  <tbody>\n",
       "    <tr>\n",
       "      <th>A</th>\n",
       "      <td>1.000000</td>\n",
       "      <td>0.124381</td>\n",
       "      <td>0.657450</td>\n",
       "      <td>0.204087</td>\n",
       "    </tr>\n",
       "    <tr>\n",
       "      <th>B</th>\n",
       "      <td>0.124381</td>\n",
       "      <td>1.000000</td>\n",
       "      <td>-0.264426</td>\n",
       "      <td>-0.397549</td>\n",
       "    </tr>\n",
       "    <tr>\n",
       "      <th>C</th>\n",
       "      <td>0.657450</td>\n",
       "      <td>-0.264426</td>\n",
       "      <td>1.000000</td>\n",
       "      <td>-0.067420</td>\n",
       "    </tr>\n",
       "    <tr>\n",
       "      <th>D</th>\n",
       "      <td>0.204087</td>\n",
       "      <td>-0.397549</td>\n",
       "      <td>-0.067420</td>\n",
       "      <td>1.000000</td>\n",
       "    </tr>\n",
       "  </tbody>\n",
       "</table>\n",
       "</div>"
      ],
      "text/plain": [
       "          A         B         C         D\n",
       "A  1.000000  0.124381  0.657450  0.204087\n",
       "B  0.124381  1.000000 -0.264426 -0.397549\n",
       "C  0.657450 -0.264426  1.000000 -0.067420\n",
       "D  0.204087 -0.397549 -0.067420  1.000000"
      ]
     },
     "execution_count": 27,
     "metadata": {},
     "output_type": "execute_result"
    }
   ],
   "source": [
    "df2.corr() # 모든 경우에 대한 상관계수(correlations)를 구해 줌. 자기 자신과 만나면 1이 출력됨"
   ]
  },
  {
   "cell_type": "code",
   "execution_count": 28,
   "metadata": {},
   "outputs": [
    {
     "data": {
      "text/plain": [
       "0.12438078964674289"
      ]
     },
     "execution_count": 28,
     "metadata": {},
     "output_type": "execute_result"
    }
   ],
   "source": [
    "df2['A'].corr(df2['B']) # A와 B의 상관관계"
   ]
  },
  {
   "cell_type": "code",
   "execution_count": 29,
   "metadata": {},
   "outputs": [
    {
     "data": {
      "text/plain": [
       "-0.26442553306425454"
      ]
     },
     "execution_count": 29,
     "metadata": {},
     "output_type": "execute_result"
    }
   ],
   "source": [
    "df2['B'].corr(df2['C'])"
   ]
  },
  {
   "cell_type": "code",
   "execution_count": 31,
   "metadata": {},
   "outputs": [
    {
     "data": {
      "text/html": [
       "<div>\n",
       "<style>\n",
       "    .dataframe thead tr:only-child th {\n",
       "        text-align: right;\n",
       "    }\n",
       "\n",
       "    .dataframe thead th {\n",
       "        text-align: left;\n",
       "    }\n",
       "\n",
       "    .dataframe tbody tr th {\n",
       "        vertical-align: top;\n",
       "    }\n",
       "</style>\n",
       "<table border=\"1\" class=\"dataframe\">\n",
       "  <thead>\n",
       "    <tr style=\"text-align: right;\">\n",
       "      <th></th>\n",
       "      <th>A</th>\n",
       "      <th>B</th>\n",
       "      <th>C</th>\n",
       "      <th>D</th>\n",
       "    </tr>\n",
       "  </thead>\n",
       "  <tbody>\n",
       "    <tr>\n",
       "      <th>A</th>\n",
       "      <td>1.248324</td>\n",
       "      <td>0.120547</td>\n",
       "      <td>0.621290</td>\n",
       "      <td>0.377391</td>\n",
       "    </tr>\n",
       "    <tr>\n",
       "      <th>B</th>\n",
       "      <td>0.120547</td>\n",
       "      <td>0.752454</td>\n",
       "      <td>-0.194004</td>\n",
       "      <td>-0.570746</td>\n",
       "    </tr>\n",
       "    <tr>\n",
       "      <th>C</th>\n",
       "      <td>0.621290</td>\n",
       "      <td>-0.194004</td>\n",
       "      <td>0.715380</td>\n",
       "      <td>-0.094378</td>\n",
       "    </tr>\n",
       "    <tr>\n",
       "      <th>D</th>\n",
       "      <td>0.377391</td>\n",
       "      <td>-0.570746</td>\n",
       "      <td>-0.094378</td>\n",
       "      <td>2.739210</td>\n",
       "    </tr>\n",
       "  </tbody>\n",
       "</table>\n",
       "</div>"
      ],
      "text/plain": [
       "          A         B         C         D\n",
       "A  1.248324  0.120547  0.621290  0.377391\n",
       "B  0.120547  0.752454 -0.194004 -0.570746\n",
       "C  0.621290 -0.194004  0.715380 -0.094378\n",
       "D  0.377391 -0.570746 -0.094378  2.739210"
      ]
     },
     "execution_count": 31,
     "metadata": {},
     "output_type": "execute_result"
    }
   ],
   "source": [
    "df2.cov()"
   ]
  },
  {
   "cell_type": "code",
   "execution_count": 32,
   "metadata": {},
   "outputs": [
    {
     "data": {
      "text/plain": [
       "-0.09437760087191782"
      ]
     },
     "execution_count": 32,
     "metadata": {},
     "output_type": "execute_result"
    }
   ],
   "source": [
    "df2['C'].cov(df2['D'])"
   ]
  },
  {
   "cell_type": "code",
   "execution_count": 33,
   "metadata": {
    "collapsed": true
   },
   "outputs": [],
   "source": [
    "dates = df2.index\n",
    "# permutation 은 치환\n",
    "random_dates = np.random.permutation(dates)\n",
    "# 무작위로 섞어봄. index 순서와 컬럼의 순서가 불규칙하게 변함\n",
    "df2 = df2.reindex(index=random_dates, columns=[\"D\", \"B\", \"C\", \"A\"])"
   ]
  },
  {
   "cell_type": "code",
   "execution_count": 34,
   "metadata": {},
   "outputs": [
    {
     "data": {
      "text/html": [
       "<div>\n",
       "<style>\n",
       "    .dataframe thead tr:only-child th {\n",
       "        text-align: right;\n",
       "    }\n",
       "\n",
       "    .dataframe thead th {\n",
       "        text-align: left;\n",
       "    }\n",
       "\n",
       "    .dataframe tbody tr th {\n",
       "        vertical-align: top;\n",
       "    }\n",
       "</style>\n",
       "<table border=\"1\" class=\"dataframe\">\n",
       "  <thead>\n",
       "    <tr style=\"text-align: right;\">\n",
       "      <th></th>\n",
       "      <th>D</th>\n",
       "      <th>B</th>\n",
       "      <th>C</th>\n",
       "      <th>A</th>\n",
       "    </tr>\n",
       "  </thead>\n",
       "  <tbody>\n",
       "    <tr>\n",
       "      <th>2018-02-23</th>\n",
       "      <td>-1.488369</td>\n",
       "      <td>0.239116</td>\n",
       "      <td>-0.122799</td>\n",
       "      <td>0.569629</td>\n",
       "    </tr>\n",
       "    <tr>\n",
       "      <th>2018-02-22</th>\n",
       "      <td>1.552199</td>\n",
       "      <td>-0.834368</td>\n",
       "      <td>0.474769</td>\n",
       "      <td>0.313467</td>\n",
       "    </tr>\n",
       "    <tr>\n",
       "      <th>2018-02-21</th>\n",
       "      <td>0.513848</td>\n",
       "      <td>1.334712</td>\n",
       "      <td>-1.552580</td>\n",
       "      <td>-0.683797</td>\n",
       "    </tr>\n",
       "    <tr>\n",
       "      <th>2018-02-24</th>\n",
       "      <td>-2.034910</td>\n",
       "      <td>0.759210</td>\n",
       "      <td>0.328260</td>\n",
       "      <td>-0.574625</td>\n",
       "    </tr>\n",
       "    <tr>\n",
       "      <th>2018-02-25</th>\n",
       "      <td>-1.321746</td>\n",
       "      <td>-0.528393</td>\n",
       "      <td>-1.315435</td>\n",
       "      <td>-2.600913</td>\n",
       "    </tr>\n",
       "    <tr>\n",
       "      <th>2018-02-20</th>\n",
       "      <td>1.758712</td>\n",
       "      <td>-0.625813</td>\n",
       "      <td>-0.670107</td>\n",
       "      <td>-0.778420</td>\n",
       "    </tr>\n",
       "  </tbody>\n",
       "</table>\n",
       "</div>"
      ],
      "text/plain": [
       "                   D         B         C         A\n",
       "2018-02-23 -1.488369  0.239116 -0.122799  0.569629\n",
       "2018-02-22  1.552199 -0.834368  0.474769  0.313467\n",
       "2018-02-21  0.513848  1.334712 -1.552580 -0.683797\n",
       "2018-02-24 -2.034910  0.759210  0.328260 -0.574625\n",
       "2018-02-25 -1.321746 -0.528393 -1.315435 -2.600913\n",
       "2018-02-20  1.758712 -0.625813 -0.670107 -0.778420"
      ]
     },
     "execution_count": 34,
     "metadata": {},
     "output_type": "execute_result"
    }
   ],
   "source": [
    "df2"
   ]
  },
  {
   "cell_type": "code",
   "execution_count": 35,
   "metadata": {},
   "outputs": [
    {
     "data": {
      "text/html": [
       "<div>\n",
       "<style>\n",
       "    .dataframe thead tr:only-child th {\n",
       "        text-align: right;\n",
       "    }\n",
       "\n",
       "    .dataframe thead th {\n",
       "        text-align: left;\n",
       "    }\n",
       "\n",
       "    .dataframe tbody tr th {\n",
       "        vertical-align: top;\n",
       "    }\n",
       "</style>\n",
       "<table border=\"1\" class=\"dataframe\">\n",
       "  <thead>\n",
       "    <tr style=\"text-align: right;\">\n",
       "      <th></th>\n",
       "      <th>D</th>\n",
       "      <th>B</th>\n",
       "      <th>C</th>\n",
       "      <th>A</th>\n",
       "    </tr>\n",
       "  </thead>\n",
       "  <tbody>\n",
       "    <tr>\n",
       "      <th>2018-02-20</th>\n",
       "      <td>1.758712</td>\n",
       "      <td>-0.625813</td>\n",
       "      <td>-0.670107</td>\n",
       "      <td>-0.778420</td>\n",
       "    </tr>\n",
       "    <tr>\n",
       "      <th>2018-02-21</th>\n",
       "      <td>0.513848</td>\n",
       "      <td>1.334712</td>\n",
       "      <td>-1.552580</td>\n",
       "      <td>-0.683797</td>\n",
       "    </tr>\n",
       "    <tr>\n",
       "      <th>2018-02-22</th>\n",
       "      <td>1.552199</td>\n",
       "      <td>-0.834368</td>\n",
       "      <td>0.474769</td>\n",
       "      <td>0.313467</td>\n",
       "    </tr>\n",
       "    <tr>\n",
       "      <th>2018-02-23</th>\n",
       "      <td>-1.488369</td>\n",
       "      <td>0.239116</td>\n",
       "      <td>-0.122799</td>\n",
       "      <td>0.569629</td>\n",
       "    </tr>\n",
       "    <tr>\n",
       "      <th>2018-02-24</th>\n",
       "      <td>-2.034910</td>\n",
       "      <td>0.759210</td>\n",
       "      <td>0.328260</td>\n",
       "      <td>-0.574625</td>\n",
       "    </tr>\n",
       "    <tr>\n",
       "      <th>2018-02-25</th>\n",
       "      <td>-1.321746</td>\n",
       "      <td>-0.528393</td>\n",
       "      <td>-1.315435</td>\n",
       "      <td>-2.600913</td>\n",
       "    </tr>\n",
       "  </tbody>\n",
       "</table>\n",
       "</div>"
      ],
      "text/plain": [
       "                   D         B         C         A\n",
       "2018-02-20  1.758712 -0.625813 -0.670107 -0.778420\n",
       "2018-02-21  0.513848  1.334712 -1.552580 -0.683797\n",
       "2018-02-22  1.552199 -0.834368  0.474769  0.313467\n",
       "2018-02-23 -1.488369  0.239116 -0.122799  0.569629\n",
       "2018-02-24 -2.034910  0.759210  0.328260 -0.574625\n",
       "2018-02-25 -1.321746 -0.528393 -1.315435 -2.600913"
      ]
     },
     "execution_count": 35,
     "metadata": {},
     "output_type": "execute_result"
    }
   ],
   "source": [
    "df2.sort_index(axis=0) # 행의 진행방향 (열)을 정렬"
   ]
  },
  {
   "cell_type": "code",
   "execution_count": 38,
   "metadata": {},
   "outputs": [
    {
     "data": {
      "text/html": [
       "<div>\n",
       "<style>\n",
       "    .dataframe thead tr:only-child th {\n",
       "        text-align: right;\n",
       "    }\n",
       "\n",
       "    .dataframe thead th {\n",
       "        text-align: left;\n",
       "    }\n",
       "\n",
       "    .dataframe tbody tr th {\n",
       "        vertical-align: top;\n",
       "    }\n",
       "</style>\n",
       "<table border=\"1\" class=\"dataframe\">\n",
       "  <thead>\n",
       "    <tr style=\"text-align: right;\">\n",
       "      <th></th>\n",
       "      <th>D</th>\n",
       "      <th>B</th>\n",
       "      <th>C</th>\n",
       "      <th>A</th>\n",
       "    </tr>\n",
       "  </thead>\n",
       "  <tbody>\n",
       "    <tr>\n",
       "      <th>2018-02-25</th>\n",
       "      <td>-1.321746</td>\n",
       "      <td>-0.528393</td>\n",
       "      <td>-1.315435</td>\n",
       "      <td>-2.600913</td>\n",
       "    </tr>\n",
       "    <tr>\n",
       "      <th>2018-02-24</th>\n",
       "      <td>-2.034910</td>\n",
       "      <td>0.759210</td>\n",
       "      <td>0.328260</td>\n",
       "      <td>-0.574625</td>\n",
       "    </tr>\n",
       "    <tr>\n",
       "      <th>2018-02-23</th>\n",
       "      <td>-1.488369</td>\n",
       "      <td>0.239116</td>\n",
       "      <td>-0.122799</td>\n",
       "      <td>0.569629</td>\n",
       "    </tr>\n",
       "    <tr>\n",
       "      <th>2018-02-22</th>\n",
       "      <td>1.552199</td>\n",
       "      <td>-0.834368</td>\n",
       "      <td>0.474769</td>\n",
       "      <td>0.313467</td>\n",
       "    </tr>\n",
       "    <tr>\n",
       "      <th>2018-02-21</th>\n",
       "      <td>0.513848</td>\n",
       "      <td>1.334712</td>\n",
       "      <td>-1.552580</td>\n",
       "      <td>-0.683797</td>\n",
       "    </tr>\n",
       "    <tr>\n",
       "      <th>2018-02-20</th>\n",
       "      <td>1.758712</td>\n",
       "      <td>-0.625813</td>\n",
       "      <td>-0.670107</td>\n",
       "      <td>-0.778420</td>\n",
       "    </tr>\n",
       "  </tbody>\n",
       "</table>\n",
       "</div>"
      ],
      "text/plain": [
       "                   D         B         C         A\n",
       "2018-02-25 -1.321746 -0.528393 -1.315435 -2.600913\n",
       "2018-02-24 -2.034910  0.759210  0.328260 -0.574625\n",
       "2018-02-23 -1.488369  0.239116 -0.122799  0.569629\n",
       "2018-02-22  1.552199 -0.834368  0.474769  0.313467\n",
       "2018-02-21  0.513848  1.334712 -1.552580 -0.683797\n",
       "2018-02-20  1.758712 -0.625813 -0.670107 -0.778420"
      ]
     },
     "execution_count": 38,
     "metadata": {},
     "output_type": "execute_result"
    }
   ],
   "source": [
    "df2.sort_index(axis=0, ascending=False) # 행의 진행방향 (열)을 descending  정렬"
   ]
  },
  {
   "cell_type": "code",
   "execution_count": 39,
   "metadata": {},
   "outputs": [
    {
     "data": {
      "text/html": [
       "<div>\n",
       "<style>\n",
       "    .dataframe thead tr:only-child th {\n",
       "        text-align: right;\n",
       "    }\n",
       "\n",
       "    .dataframe thead th {\n",
       "        text-align: left;\n",
       "    }\n",
       "\n",
       "    .dataframe tbody tr th {\n",
       "        vertical-align: top;\n",
       "    }\n",
       "</style>\n",
       "<table border=\"1\" class=\"dataframe\">\n",
       "  <thead>\n",
       "    <tr style=\"text-align: right;\">\n",
       "      <th></th>\n",
       "      <th>A</th>\n",
       "      <th>B</th>\n",
       "      <th>C</th>\n",
       "      <th>D</th>\n",
       "    </tr>\n",
       "  </thead>\n",
       "  <tbody>\n",
       "    <tr>\n",
       "      <th>2018-02-23</th>\n",
       "      <td>0.569629</td>\n",
       "      <td>0.239116</td>\n",
       "      <td>-0.122799</td>\n",
       "      <td>-1.488369</td>\n",
       "    </tr>\n",
       "    <tr>\n",
       "      <th>2018-02-22</th>\n",
       "      <td>0.313467</td>\n",
       "      <td>-0.834368</td>\n",
       "      <td>0.474769</td>\n",
       "      <td>1.552199</td>\n",
       "    </tr>\n",
       "    <tr>\n",
       "      <th>2018-02-21</th>\n",
       "      <td>-0.683797</td>\n",
       "      <td>1.334712</td>\n",
       "      <td>-1.552580</td>\n",
       "      <td>0.513848</td>\n",
       "    </tr>\n",
       "    <tr>\n",
       "      <th>2018-02-24</th>\n",
       "      <td>-0.574625</td>\n",
       "      <td>0.759210</td>\n",
       "      <td>0.328260</td>\n",
       "      <td>-2.034910</td>\n",
       "    </tr>\n",
       "    <tr>\n",
       "      <th>2018-02-25</th>\n",
       "      <td>-2.600913</td>\n",
       "      <td>-0.528393</td>\n",
       "      <td>-1.315435</td>\n",
       "      <td>-1.321746</td>\n",
       "    </tr>\n",
       "    <tr>\n",
       "      <th>2018-02-20</th>\n",
       "      <td>-0.778420</td>\n",
       "      <td>-0.625813</td>\n",
       "      <td>-0.670107</td>\n",
       "      <td>1.758712</td>\n",
       "    </tr>\n",
       "  </tbody>\n",
       "</table>\n",
       "</div>"
      ],
      "text/plain": [
       "                   A         B         C         D\n",
       "2018-02-23  0.569629  0.239116 -0.122799 -1.488369\n",
       "2018-02-22  0.313467 -0.834368  0.474769  1.552199\n",
       "2018-02-21 -0.683797  1.334712 -1.552580  0.513848\n",
       "2018-02-24 -0.574625  0.759210  0.328260 -2.034910\n",
       "2018-02-25 -2.600913 -0.528393 -1.315435 -1.321746\n",
       "2018-02-20 -0.778420 -0.625813 -0.670107  1.758712"
      ]
     },
     "execution_count": 39,
     "metadata": {},
     "output_type": "execute_result"
    }
   ],
   "source": [
    "df2.sort_index(axis=1, ascending=True)"
   ]
  },
  {
   "cell_type": "code",
   "execution_count": 41,
   "metadata": {},
   "outputs": [
    {
     "data": {
      "text/html": [
       "<div>\n",
       "<style>\n",
       "    .dataframe thead tr:only-child th {\n",
       "        text-align: right;\n",
       "    }\n",
       "\n",
       "    .dataframe thead th {\n",
       "        text-align: left;\n",
       "    }\n",
       "\n",
       "    .dataframe tbody tr th {\n",
       "        vertical-align: top;\n",
       "    }\n",
       "</style>\n",
       "<table border=\"1\" class=\"dataframe\">\n",
       "  <thead>\n",
       "    <tr style=\"text-align: right;\">\n",
       "      <th></th>\n",
       "      <th>D</th>\n",
       "      <th>B</th>\n",
       "      <th>C</th>\n",
       "      <th>A</th>\n",
       "    </tr>\n",
       "  </thead>\n",
       "  <tbody>\n",
       "    <tr>\n",
       "      <th>2018-02-24</th>\n",
       "      <td>-2.034910</td>\n",
       "      <td>0.759210</td>\n",
       "      <td>0.328260</td>\n",
       "      <td>-0.574625</td>\n",
       "    </tr>\n",
       "    <tr>\n",
       "      <th>2018-02-23</th>\n",
       "      <td>-1.488369</td>\n",
       "      <td>0.239116</td>\n",
       "      <td>-0.122799</td>\n",
       "      <td>0.569629</td>\n",
       "    </tr>\n",
       "    <tr>\n",
       "      <th>2018-02-25</th>\n",
       "      <td>-1.321746</td>\n",
       "      <td>-0.528393</td>\n",
       "      <td>-1.315435</td>\n",
       "      <td>-2.600913</td>\n",
       "    </tr>\n",
       "    <tr>\n",
       "      <th>2018-02-21</th>\n",
       "      <td>0.513848</td>\n",
       "      <td>1.334712</td>\n",
       "      <td>-1.552580</td>\n",
       "      <td>-0.683797</td>\n",
       "    </tr>\n",
       "    <tr>\n",
       "      <th>2018-02-22</th>\n",
       "      <td>1.552199</td>\n",
       "      <td>-0.834368</td>\n",
       "      <td>0.474769</td>\n",
       "      <td>0.313467</td>\n",
       "    </tr>\n",
       "    <tr>\n",
       "      <th>2018-02-20</th>\n",
       "      <td>1.758712</td>\n",
       "      <td>-0.625813</td>\n",
       "      <td>-0.670107</td>\n",
       "      <td>-0.778420</td>\n",
       "    </tr>\n",
       "  </tbody>\n",
       "</table>\n",
       "</div>"
      ],
      "text/plain": [
       "                   D         B         C         A\n",
       "2018-02-24 -2.034910  0.759210  0.328260 -0.574625\n",
       "2018-02-23 -1.488369  0.239116 -0.122799  0.569629\n",
       "2018-02-25 -1.321746 -0.528393 -1.315435 -2.600913\n",
       "2018-02-21  0.513848  1.334712 -1.552580 -0.683797\n",
       "2018-02-22  1.552199 -0.834368  0.474769  0.313467\n",
       "2018-02-20  1.758712 -0.625813 -0.670107 -0.778420"
      ]
     },
     "execution_count": 41,
     "metadata": {},
     "output_type": "execute_result"
    }
   ],
   "source": [
    "df2.sort_values(by='D') # D colomn에 대해 정렬"
   ]
  },
  {
   "cell_type": "code",
   "execution_count": 42,
   "metadata": {},
   "outputs": [
    {
     "data": {
      "text/html": [
       "<div>\n",
       "<style>\n",
       "    .dataframe thead tr:only-child th {\n",
       "        text-align: right;\n",
       "    }\n",
       "\n",
       "    .dataframe thead th {\n",
       "        text-align: left;\n",
       "    }\n",
       "\n",
       "    .dataframe tbody tr th {\n",
       "        vertical-align: top;\n",
       "    }\n",
       "</style>\n",
       "<table border=\"1\" class=\"dataframe\">\n",
       "  <thead>\n",
       "    <tr style=\"text-align: right;\">\n",
       "      <th></th>\n",
       "      <th>D</th>\n",
       "      <th>B</th>\n",
       "      <th>C</th>\n",
       "      <th>A</th>\n",
       "    </tr>\n",
       "  </thead>\n",
       "  <tbody>\n",
       "    <tr>\n",
       "      <th>2018-02-21</th>\n",
       "      <td>0.513848</td>\n",
       "      <td>1.334712</td>\n",
       "      <td>-1.552580</td>\n",
       "      <td>-0.683797</td>\n",
       "    </tr>\n",
       "    <tr>\n",
       "      <th>2018-02-24</th>\n",
       "      <td>-2.034910</td>\n",
       "      <td>0.759210</td>\n",
       "      <td>0.328260</td>\n",
       "      <td>-0.574625</td>\n",
       "    </tr>\n",
       "    <tr>\n",
       "      <th>2018-02-23</th>\n",
       "      <td>-1.488369</td>\n",
       "      <td>0.239116</td>\n",
       "      <td>-0.122799</td>\n",
       "      <td>0.569629</td>\n",
       "    </tr>\n",
       "    <tr>\n",
       "      <th>2018-02-25</th>\n",
       "      <td>-1.321746</td>\n",
       "      <td>-0.528393</td>\n",
       "      <td>-1.315435</td>\n",
       "      <td>-2.600913</td>\n",
       "    </tr>\n",
       "    <tr>\n",
       "      <th>2018-02-20</th>\n",
       "      <td>1.758712</td>\n",
       "      <td>-0.625813</td>\n",
       "      <td>-0.670107</td>\n",
       "      <td>-0.778420</td>\n",
       "    </tr>\n",
       "    <tr>\n",
       "      <th>2018-02-22</th>\n",
       "      <td>1.552199</td>\n",
       "      <td>-0.834368</td>\n",
       "      <td>0.474769</td>\n",
       "      <td>0.313467</td>\n",
       "    </tr>\n",
       "  </tbody>\n",
       "</table>\n",
       "</div>"
      ],
      "text/plain": [
       "                   D         B         C         A\n",
       "2018-02-21  0.513848  1.334712 -1.552580 -0.683797\n",
       "2018-02-24 -2.034910  0.759210  0.328260 -0.574625\n",
       "2018-02-23 -1.488369  0.239116 -0.122799  0.569629\n",
       "2018-02-25 -1.321746 -0.528393 -1.315435 -2.600913\n",
       "2018-02-20  1.758712 -0.625813 -0.670107 -0.778420\n",
       "2018-02-22  1.552199 -0.834368  0.474769  0.313467"
      ]
     },
     "execution_count": 42,
     "metadata": {},
     "output_type": "execute_result"
    }
   ],
   "source": [
    "df2.sort_values(by='B', ascending=False)"
   ]
  },
  {
   "cell_type": "code",
   "execution_count": 43,
   "metadata": {
    "collapsed": true
   },
   "outputs": [],
   "source": [
    "df2[\"E\"] = np.random.randint(0, 6, size=6) # integer random number를 return함\n",
    "df2[\"F\"] = [\"first\", \"second\", \"first\", \"third\", \"first\", \"second\"]"
   ]
  },
  {
   "cell_type": "code",
   "execution_count": 44,
   "metadata": {},
   "outputs": [
    {
     "data": {
      "text/html": [
       "<div>\n",
       "<style>\n",
       "    .dataframe thead tr:only-child th {\n",
       "        text-align: right;\n",
       "    }\n",
       "\n",
       "    .dataframe thead th {\n",
       "        text-align: left;\n",
       "    }\n",
       "\n",
       "    .dataframe tbody tr th {\n",
       "        vertical-align: top;\n",
       "    }\n",
       "</style>\n",
       "<table border=\"1\" class=\"dataframe\">\n",
       "  <thead>\n",
       "    <tr style=\"text-align: right;\">\n",
       "      <th></th>\n",
       "      <th>D</th>\n",
       "      <th>B</th>\n",
       "      <th>C</th>\n",
       "      <th>A</th>\n",
       "      <th>E</th>\n",
       "      <th>F</th>\n",
       "    </tr>\n",
       "  </thead>\n",
       "  <tbody>\n",
       "    <tr>\n",
       "      <th>2018-02-23</th>\n",
       "      <td>-1.488369</td>\n",
       "      <td>0.239116</td>\n",
       "      <td>-0.122799</td>\n",
       "      <td>0.569629</td>\n",
       "      <td>0</td>\n",
       "      <td>first</td>\n",
       "    </tr>\n",
       "    <tr>\n",
       "      <th>2018-02-22</th>\n",
       "      <td>1.552199</td>\n",
       "      <td>-0.834368</td>\n",
       "      <td>0.474769</td>\n",
       "      <td>0.313467</td>\n",
       "      <td>5</td>\n",
       "      <td>second</td>\n",
       "    </tr>\n",
       "    <tr>\n",
       "      <th>2018-02-21</th>\n",
       "      <td>0.513848</td>\n",
       "      <td>1.334712</td>\n",
       "      <td>-1.552580</td>\n",
       "      <td>-0.683797</td>\n",
       "      <td>2</td>\n",
       "      <td>first</td>\n",
       "    </tr>\n",
       "    <tr>\n",
       "      <th>2018-02-24</th>\n",
       "      <td>-2.034910</td>\n",
       "      <td>0.759210</td>\n",
       "      <td>0.328260</td>\n",
       "      <td>-0.574625</td>\n",
       "      <td>5</td>\n",
       "      <td>third</td>\n",
       "    </tr>\n",
       "    <tr>\n",
       "      <th>2018-02-25</th>\n",
       "      <td>-1.321746</td>\n",
       "      <td>-0.528393</td>\n",
       "      <td>-1.315435</td>\n",
       "      <td>-2.600913</td>\n",
       "      <td>2</td>\n",
       "      <td>first</td>\n",
       "    </tr>\n",
       "    <tr>\n",
       "      <th>2018-02-20</th>\n",
       "      <td>1.758712</td>\n",
       "      <td>-0.625813</td>\n",
       "      <td>-0.670107</td>\n",
       "      <td>-0.778420</td>\n",
       "      <td>3</td>\n",
       "      <td>second</td>\n",
       "    </tr>\n",
       "  </tbody>\n",
       "</table>\n",
       "</div>"
      ],
      "text/plain": [
       "                   D         B         C         A  E       F\n",
       "2018-02-23 -1.488369  0.239116 -0.122799  0.569629  0   first\n",
       "2018-02-22  1.552199 -0.834368  0.474769  0.313467  5  second\n",
       "2018-02-21  0.513848  1.334712 -1.552580 -0.683797  2   first\n",
       "2018-02-24 -2.034910  0.759210  0.328260 -0.574625  5   third\n",
       "2018-02-25 -1.321746 -0.528393 -1.315435 -2.600913  2   first\n",
       "2018-02-20  1.758712 -0.625813 -0.670107 -0.778420  3  second"
      ]
     },
     "execution_count": 44,
     "metadata": {},
     "output_type": "execute_result"
    }
   ],
   "source": [
    "df2"
   ]
  },
  {
   "cell_type": "code",
   "execution_count": 45,
   "metadata": {},
   "outputs": [
    {
     "data": {
      "text/html": [
       "<div>\n",
       "<style>\n",
       "    .dataframe thead tr:only-child th {\n",
       "        text-align: right;\n",
       "    }\n",
       "\n",
       "    .dataframe thead th {\n",
       "        text-align: left;\n",
       "    }\n",
       "\n",
       "    .dataframe tbody tr th {\n",
       "        vertical-align: top;\n",
       "    }\n",
       "</style>\n",
       "<table border=\"1\" class=\"dataframe\">\n",
       "  <thead>\n",
       "    <tr style=\"text-align: right;\">\n",
       "      <th></th>\n",
       "      <th>D</th>\n",
       "      <th>B</th>\n",
       "      <th>C</th>\n",
       "      <th>A</th>\n",
       "      <th>E</th>\n",
       "      <th>F</th>\n",
       "    </tr>\n",
       "  </thead>\n",
       "  <tbody>\n",
       "    <tr>\n",
       "      <th>2018-02-23</th>\n",
       "      <td>-1.488369</td>\n",
       "      <td>0.239116</td>\n",
       "      <td>-0.122799</td>\n",
       "      <td>0.569629</td>\n",
       "      <td>0</td>\n",
       "      <td>first</td>\n",
       "    </tr>\n",
       "    <tr>\n",
       "      <th>2018-02-22</th>\n",
       "      <td>1.552199</td>\n",
       "      <td>-0.834368</td>\n",
       "      <td>0.474769</td>\n",
       "      <td>0.313467</td>\n",
       "      <td>3</td>\n",
       "      <td>second</td>\n",
       "    </tr>\n",
       "    <tr>\n",
       "      <th>2018-02-21</th>\n",
       "      <td>0.513848</td>\n",
       "      <td>1.334712</td>\n",
       "      <td>-1.552580</td>\n",
       "      <td>-0.683797</td>\n",
       "      <td>5</td>\n",
       "      <td>first</td>\n",
       "    </tr>\n",
       "    <tr>\n",
       "      <th>2018-02-24</th>\n",
       "      <td>-2.034910</td>\n",
       "      <td>0.759210</td>\n",
       "      <td>0.328260</td>\n",
       "      <td>-0.574625</td>\n",
       "      <td>5</td>\n",
       "      <td>third</td>\n",
       "    </tr>\n",
       "    <tr>\n",
       "      <th>2018-02-25</th>\n",
       "      <td>-1.321746</td>\n",
       "      <td>-0.528393</td>\n",
       "      <td>-1.315435</td>\n",
       "      <td>-2.600913</td>\n",
       "      <td>4</td>\n",
       "      <td>first</td>\n",
       "    </tr>\n",
       "    <tr>\n",
       "      <th>2018-02-20</th>\n",
       "      <td>1.758712</td>\n",
       "      <td>-0.625813</td>\n",
       "      <td>-0.670107</td>\n",
       "      <td>-0.778420</td>\n",
       "      <td>5</td>\n",
       "      <td>second</td>\n",
       "    </tr>\n",
       "  </tbody>\n",
       "</table>\n",
       "</div>"
      ],
      "text/plain": [
       "                   D         B         C         A  E       F\n",
       "2018-02-23 -1.488369  0.239116 -0.122799  0.569629  0   first\n",
       "2018-02-22  1.552199 -0.834368  0.474769  0.313467  3  second\n",
       "2018-02-21  0.513848  1.334712 -1.552580 -0.683797  5   first\n",
       "2018-02-24 -2.034910  0.759210  0.328260 -0.574625  5   third\n",
       "2018-02-25 -1.321746 -0.528393 -1.315435 -2.600913  4   first\n",
       "2018-02-20  1.758712 -0.625813 -0.670107 -0.778420  5  second"
      ]
     },
     "execution_count": 45,
     "metadata": {},
     "output_type": "execute_result"
    }
   ],
   "source": [
    "df2[\"E\"] = np.random.randint(0, 6, size=6)\n",
    "df2"
   ]
  },
  {
   "cell_type": "code",
   "execution_count": 46,
   "metadata": {},
   "outputs": [
    {
     "data": {
      "text/html": [
       "<div>\n",
       "<style>\n",
       "    .dataframe thead tr:only-child th {\n",
       "        text-align: right;\n",
       "    }\n",
       "\n",
       "    .dataframe thead th {\n",
       "        text-align: left;\n",
       "    }\n",
       "\n",
       "    .dataframe tbody tr th {\n",
       "        vertical-align: top;\n",
       "    }\n",
       "</style>\n",
       "<table border=\"1\" class=\"dataframe\">\n",
       "  <thead>\n",
       "    <tr style=\"text-align: right;\">\n",
       "      <th></th>\n",
       "      <th>D</th>\n",
       "      <th>B</th>\n",
       "      <th>C</th>\n",
       "      <th>A</th>\n",
       "      <th>E</th>\n",
       "      <th>F</th>\n",
       "    </tr>\n",
       "  </thead>\n",
       "  <tbody>\n",
       "    <tr>\n",
       "      <th>2018-02-23</th>\n",
       "      <td>-1.488369</td>\n",
       "      <td>0.239116</td>\n",
       "      <td>-0.122799</td>\n",
       "      <td>0.569629</td>\n",
       "      <td>0</td>\n",
       "      <td>first</td>\n",
       "    </tr>\n",
       "    <tr>\n",
       "      <th>2018-02-22</th>\n",
       "      <td>1.552199</td>\n",
       "      <td>-0.834368</td>\n",
       "      <td>0.474769</td>\n",
       "      <td>0.313467</td>\n",
       "      <td>3</td>\n",
       "      <td>second</td>\n",
       "    </tr>\n",
       "    <tr>\n",
       "      <th>2018-02-25</th>\n",
       "      <td>-1.321746</td>\n",
       "      <td>-0.528393</td>\n",
       "      <td>-1.315435</td>\n",
       "      <td>-2.600913</td>\n",
       "      <td>4</td>\n",
       "      <td>first</td>\n",
       "    </tr>\n",
       "    <tr>\n",
       "      <th>2018-02-21</th>\n",
       "      <td>0.513848</td>\n",
       "      <td>1.334712</td>\n",
       "      <td>-1.552580</td>\n",
       "      <td>-0.683797</td>\n",
       "      <td>5</td>\n",
       "      <td>first</td>\n",
       "    </tr>\n",
       "    <tr>\n",
       "      <th>2018-02-20</th>\n",
       "      <td>1.758712</td>\n",
       "      <td>-0.625813</td>\n",
       "      <td>-0.670107</td>\n",
       "      <td>-0.778420</td>\n",
       "      <td>5</td>\n",
       "      <td>second</td>\n",
       "    </tr>\n",
       "    <tr>\n",
       "      <th>2018-02-24</th>\n",
       "      <td>-2.034910</td>\n",
       "      <td>0.759210</td>\n",
       "      <td>0.328260</td>\n",
       "      <td>-0.574625</td>\n",
       "      <td>5</td>\n",
       "      <td>third</td>\n",
       "    </tr>\n",
       "  </tbody>\n",
       "</table>\n",
       "</div>"
      ],
      "text/plain": [
       "                   D         B         C         A  E       F\n",
       "2018-02-23 -1.488369  0.239116 -0.122799  0.569629  0   first\n",
       "2018-02-22  1.552199 -0.834368  0.474769  0.313467  3  second\n",
       "2018-02-25 -1.321746 -0.528393 -1.315435 -2.600913  4   first\n",
       "2018-02-21  0.513848  1.334712 -1.552580 -0.683797  5   first\n",
       "2018-02-20  1.758712 -0.625813 -0.670107 -0.778420  5  second\n",
       "2018-02-24 -2.034910  0.759210  0.328260 -0.574625  5   third"
      ]
     },
     "execution_count": 46,
     "metadata": {},
     "output_type": "execute_result"
    }
   ],
   "source": [
    "df2.sort_values(by=['E', 'F']) # E열을 기준으로 정렬하되, E열에 동일 값이 있는 경우 F열을 기준으로 정렬함"
   ]
  },
  {
   "cell_type": "code",
   "execution_count": 49,
   "metadata": {},
   "outputs": [
    {
     "data": {
      "text/plain": [
       "array(['first', 'second', 'third'], dtype=object)"
      ]
     },
     "execution_count": 49,
     "metadata": {},
     "output_type": "execute_result"
    }
   ],
   "source": [
    "df2['F'].unique() # SQL로 따지면 distinct 키워드를 쓴 결과처럼 중복 값은 제외하고 보여줌"
   ]
  },
  {
   "cell_type": "code",
   "execution_count": 51,
   "metadata": {
    "scrolled": true
   },
   "outputs": [
    {
     "data": {
      "text/plain": [
       "first     3\n",
       "second    2\n",
       "third     1\n",
       "Name: F, dtype: int64"
      ]
     },
     "execution_count": 51,
     "metadata": {},
     "output_type": "execute_result"
    }
   ],
   "source": [
    "df2['F'].value_counts() # F의 각 값이 몇 번씩 나오는지 카운팅"
   ]
  },
  {
   "cell_type": "code",
   "execution_count": 52,
   "metadata": {
    "collapsed": true
   },
   "outputs": [],
   "source": [
    "df3 = pd.DataFrame(\n",
    "    np.random.randn(4, 3),\n",
    "    columns=[\"b\", \"d\", \"e\"],\n",
    "    index=[\"Seoul\", \"Incheon\", \"Busan\", \"Daegu\"]\n",
    ")"
   ]
  },
  {
   "cell_type": "code",
   "execution_count": 53,
   "metadata": {},
   "outputs": [
    {
     "data": {
      "text/html": [
       "<div>\n",
       "<style>\n",
       "    .dataframe thead tr:only-child th {\n",
       "        text-align: right;\n",
       "    }\n",
       "\n",
       "    .dataframe thead th {\n",
       "        text-align: left;\n",
       "    }\n",
       "\n",
       "    .dataframe tbody tr th {\n",
       "        vertical-align: top;\n",
       "    }\n",
       "</style>\n",
       "<table border=\"1\" class=\"dataframe\">\n",
       "  <thead>\n",
       "    <tr style=\"text-align: right;\">\n",
       "      <th></th>\n",
       "      <th>b</th>\n",
       "      <th>d</th>\n",
       "      <th>e</th>\n",
       "    </tr>\n",
       "  </thead>\n",
       "  <tbody>\n",
       "    <tr>\n",
       "      <th>Seoul</th>\n",
       "      <td>-0.965342</td>\n",
       "      <td>0.108430</td>\n",
       "      <td>-0.541255</td>\n",
       "    </tr>\n",
       "    <tr>\n",
       "      <th>Incheon</th>\n",
       "      <td>0.392496</td>\n",
       "      <td>0.867019</td>\n",
       "      <td>-0.185686</td>\n",
       "    </tr>\n",
       "    <tr>\n",
       "      <th>Busan</th>\n",
       "      <td>0.281158</td>\n",
       "      <td>-0.263917</td>\n",
       "      <td>1.488005</td>\n",
       "    </tr>\n",
       "    <tr>\n",
       "      <th>Daegu</th>\n",
       "      <td>-1.293285</td>\n",
       "      <td>-1.439733</td>\n",
       "      <td>0.158454</td>\n",
       "    </tr>\n",
       "  </tbody>\n",
       "</table>\n",
       "</div>"
      ],
      "text/plain": [
       "                b         d         e\n",
       "Seoul   -0.965342  0.108430 -0.541255\n",
       "Incheon  0.392496  0.867019 -0.185686\n",
       "Busan    0.281158 -0.263917  1.488005\n",
       "Daegu   -1.293285 -1.439733  0.158454"
      ]
     },
     "execution_count": 53,
     "metadata": {},
     "output_type": "execute_result"
    }
   ],
   "source": [
    "df3"
   ]
  },
  {
   "cell_type": "code",
   "execution_count": 58,
   "metadata": {
    "collapsed": true
   },
   "outputs": [],
   "source": [
    "my_func = lambda x: x.max() - x.min()"
   ]
  },
  {
   "cell_type": "code",
   "execution_count": 59,
   "metadata": {},
   "outputs": [
    {
     "data": {
      "text/plain": [
       "b    1.685781\n",
       "d    2.306752\n",
       "e    2.029260\n",
       "dtype: float64"
      ]
     },
     "execution_count": 59,
     "metadata": {},
     "output_type": "execute_result"
    }
   ],
   "source": [
    "df3.apply(my_func, axis=0) # apply 함수는 param으로 함수를 가진다. => 고차함수"
   ]
  },
  {
   "cell_type": "code",
   "execution_count": 60,
   "metadata": {},
   "outputs": [
    {
     "data": {
      "text/html": [
       "<div>\n",
       "<style>\n",
       "    .dataframe thead tr:only-child th {\n",
       "        text-align: right;\n",
       "    }\n",
       "\n",
       "    .dataframe thead th {\n",
       "        text-align: left;\n",
       "    }\n",
       "\n",
       "    .dataframe tbody tr th {\n",
       "        vertical-align: top;\n",
       "    }\n",
       "</style>\n",
       "<table border=\"1\" class=\"dataframe\">\n",
       "  <thead>\n",
       "    <tr style=\"text-align: right;\">\n",
       "      <th></th>\n",
       "      <th>b</th>\n",
       "      <th>d</th>\n",
       "      <th>e</th>\n",
       "    </tr>\n",
       "  </thead>\n",
       "  <tbody>\n",
       "    <tr>\n",
       "      <th>Seoul</th>\n",
       "      <td>-0.965342</td>\n",
       "      <td>0.108430</td>\n",
       "      <td>-0.541255</td>\n",
       "    </tr>\n",
       "    <tr>\n",
       "      <th>Incheon</th>\n",
       "      <td>0.392496</td>\n",
       "      <td>0.867019</td>\n",
       "      <td>-0.185686</td>\n",
       "    </tr>\n",
       "    <tr>\n",
       "      <th>Busan</th>\n",
       "      <td>0.281158</td>\n",
       "      <td>-0.263917</td>\n",
       "      <td>1.488005</td>\n",
       "    </tr>\n",
       "    <tr>\n",
       "      <th>Daegu</th>\n",
       "      <td>-1.293285</td>\n",
       "      <td>-1.439733</td>\n",
       "      <td>0.158454</td>\n",
       "    </tr>\n",
       "  </tbody>\n",
       "</table>\n",
       "</div>"
      ],
      "text/plain": [
       "                b         d         e\n",
       "Seoul   -0.965342  0.108430 -0.541255\n",
       "Incheon  0.392496  0.867019 -0.185686\n",
       "Busan    0.281158 -0.263917  1.488005\n",
       "Daegu   -1.293285 -1.439733  0.158454"
      ]
     },
     "execution_count": 60,
     "metadata": {},
     "output_type": "execute_result"
    }
   ],
   "source": [
    "df3"
   ]
  }
 ],
 "metadata": {
  "kernelspec": {
   "display_name": "Python 3",
   "language": "python",
   "name": "python3"
  },
  "language_info": {
   "codemirror_mode": {
    "name": "ipython",
    "version": 3
   },
   "file_extension": ".py",
   "mimetype": "text/x-python",
   "name": "python",
   "nbconvert_exporter": "python",
   "pygments_lexer": "ipython3",
   "version": "3.6.3"
  }
 },
 "nbformat": 4,
 "nbformat_minor": 2
}
