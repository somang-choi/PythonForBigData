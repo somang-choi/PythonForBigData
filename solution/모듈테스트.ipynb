{
 "cells": [
  {
   "cell_type": "code",
   "execution_count": 1,
   "metadata": {},
   "outputs": [
    {
     "name": "stdout",
     "output_type": "stream",
     "text": [
      "\n",
      "Please wait a moment while I gather a list of all available modules...\n",
      "\n"
     ]
    },
    {
     "name": "stderr",
     "output_type": "stream",
     "text": [
      "C:\\Users\\student\\Anaconda3\\lib\\site-packages\\IPython\\kernel\\__init__.py:13: ShimWarning: The `IPython.kernel` package has been deprecated since IPython 4.0.You should import from ipykernel or jupyter_client instead.\n",
      "  \"You should import from ipykernel or jupyter_client instead.\", ShimWarning)\n",
      "WARNING: AstropyDeprecationWarning: The astropy.vo.samp module has now been moved to astropy.samp [astropy.vo.samp]\n",
      "C:\\Users\\student\\Anaconda3\\lib\\site-packages\\h5py\\__init__.py:34: FutureWarning: Conversion of the second argument of issubdtype from `float` to `np.floating` is deprecated. In future, it will be treated as `np.float64 == np.dtype(float).type`.\n",
      "  from ._conv import register_converters as _register_converters\n",
      "C:\\Users\\student\\Anaconda3\\lib\\site-packages\\odo\\backends\\pandas.py:102: FutureWarning: pandas.tslib is deprecated and will be removed in a future version.\n",
      "You can access NaTType as type(pandas.NaT)\n",
      "  @convert.register((pd.Timestamp, pd.Timedelta), (pd.tslib.NaTType, type(None)))\n",
      "C:\\Users\\student\\Anaconda3\\lib\\site-packages\\nltk\\twitter\\__init__.py:20: UserWarning: The twython library has not been installed. Some functionality from the twitter package will not be available.\n",
      "  warnings.warn(\"The twython library has not been installed. \"\n",
      "C:\\Users\\student\\Anaconda3\\lib\\site-packages\\sklearn\\ensemble\\weight_boosting.py:29: DeprecationWarning: numpy.core.umath_tests is an internal NumPy module and should not be imported. It will be removed in a future NumPy release.\n",
      "  from numpy.core.umath_tests import inner1d\n",
      "C:\\Users\\student\\Anaconda3\\lib\\site-packages\\qtawesome\\iconic_font.py:268: UserWarning: You need to have a running QApplication to use QtAwesome!\n",
      "  warnings.warn(\"You need to have a running \"\n",
      "C:\\Users\\student\\Anaconda3\\lib\\site-packages\\statsmodels\\compat\\pandas.py:56: FutureWarning: The pandas.core.datetools module is deprecated and will be removed in a future version. Please use the pandas.tseries module instead.\n",
      "  from pandas.core import datetools\n"
     ]
    },
    {
     "name": "stdout",
     "output_type": "stream",
     "text": [
      "Crypto              bz2                 matplotlib          sphinx\n",
      "Cython              cProfile            mccabe              sphinxcontrib\n",
      "IPython             cachecontrol        menuinst            spyder\n",
      "OleFileIO_PL        calendar            mimetypes           spyder_breakpoints\n",
      "OpenSSL             certifi             mistune             spyder_io_dcm\n",
      "PIL                 cffi                mkl                 spyder_io_hdf5\n",
      "PyQt5               cgi                 mmap                spyder_profiler\n",
      "__future__          cgitb               mmapfile            spyder_pylint\n",
      "_ast                chardet             mmsystem            sqlalchemy\n",
      "_asyncio            chunk               modulefinder        sqlite3\n",
      "_bisect             click               mpmath              sre_compile\n",
      "_blake2             cloudpickle         msgpack             sre_constants\n",
      "_bootlocale         clyent              msilib              sre_parse\n",
      "_bz2                cmath               msvcrt              ssl\n",
      "_cffi_backend       cmd                 multipledispatch    sspi\n",
      "_codecs             code                multiprocessing     sspicon\n",
      "_codecs_cn          codecs              navigator_updater   stat\n",
      "_codecs_hk          codeop              nbconvert           statistics\n",
      "_codecs_iso2022     collections         nbformat            statsmodels\n",
      "_codecs_jp          colorama            netbios             storemagic\n",
      "_codecs_kr          colorsys            netrc               string\n",
      "_codecs_tw          commctrl            networkx            stringprep\n",
      "_collections        compileall          nltk                struct\n",
      "_collections_abc    comtypes            nntplib             subprocess\n",
      "_compat_pickle      concurrent          nose                sunau\n",
      "_compression        conda               notebook            symbol\n",
      "_csv                conda_build         nt                  sympy\n",
      "_ctypes             conda_env           ntpath              sympyprinting\n",
      "_ctypes_test        conda_verify        ntsecuritycon       symtable\n",
      "_datetime           configparser        nturl2path          sys\n",
      "_decimal            contextlib          numba               sysconfig\n",
      "_dummy_thread       contextlib2         numbers             tables\n",
      "_elementtree        copy                numexpr             tabnanny\n",
      "_findvs             copyreg             numpy               tarfile\n",
      "_functools          crypt               numpydoc            tblib\n",
      "_hashlib            cryptography        odbc                telnetlib\n",
      "_heapq              csv                 odo                 tempfile\n",
      "_imp                ctypes              olefile             test\n",
      "_io                 curl                opcode              test_path\n",
      "_json               curses              openpyxl            test_pycosat\n",
      "_locale             cwp                 operator            testpath\n",
      "_lsprof             cycler              optparse            tests\n",
      "_lzma               cython              os                  textwrap\n",
      "_markupbase         cythonmagic         packaging           this\n",
      "_md5                cytoolz             pandas              threading\n",
      "_msi                dask                pandocfilters       time\n",
      "_multibytecodec     datashape           parser              timeit\n",
      "_multiprocessing    datetime            partd               timer\n",
      "_nsis               dateutil            path                tkinter\n",
      "_opcode             dbi                 pathlib             tlz\n",
      "_operator           dbm                 pathlib2            token\n",
      "_osx_support        dde                 patsy               tokenize\n",
      "_overlapped         decimal             pdb                 toolz\n",
      "_pickle             decorator           pep8                tornado\n",
      "_pydecimal          difflib             perfmon             trace\n",
      "_pyio               dis                 pickle              traceback\n",
      "_pytest             distlib             pickleshare         tracemalloc\n",
      "_random             distributed         pickletools         traitlets\n",
      "_sha1               distutils           pip                 tty\n",
      "_sha256             doctest             pipes               turtle\n",
      "_sha3               docutils            pkg_resources       turtledemo\n",
      "_sha512             dummy_threading     pkginfo             types\n",
      "_signal             easy_install        pkgutil             typing\n",
      "_sitebuiltins       email               platform            unicodecsv\n",
      "_socket             encodings           plistlib            unicodedata\n",
      "_sqlite3            entrypoints         ply                 unittest\n",
      "_sre                enum                poplib              urllib\n",
      "_ssl                errno               posixpath           urllib3\n",
      "_stat               et_xmlfile          pprint              uu\n",
      "_string             fastcache           profile             uuid\n",
      "_strptime           faulthandler        progress            venv\n",
      "_struct             filecmp             prompt_toolkit      warnings\n",
      "_symtable           fileinput           pstats              wave\n",
      "_system_path        filelock            psutil              wcwidth\n",
      "_testbuffer         flask               pty                 weakref\n",
      "_testcapi           flask_cors          py                  webbrowser\n",
      "_testconsole        fnmatch             py_compile          webencodings\n",
      "_testimportmultiple folium              pyclbr              werkzeug\n",
      "_testmultiphase     formatter           pycodestyle         wheel\n",
      "_thread             fractions           pycosat             widgetsnbextension\n",
      "_threading_local    ftplib              pycparser           win2kras\n",
      "_tkinter            functools           pycurl              win32api\n",
      "_tracemalloc        gc                  pydoc               win32clipboard\n",
      "_warnings           genericpath         pydoc_data          win32com\n",
      "_weakref            getopt              pyexpat             win32con\n",
      "_weakrefset         getpass             pyflakes            win32console\n",
      "_win32sysloader     gettext             pygments            win32cred\n",
      "_winapi             gevent              pylab               win32crypt\n",
      "_winxptheme         glob                pylint              win32cryptcon\n",
      "_yaml               glob2               pymongo             win32event\n",
      "abc                 googlemaps          pyodbc              win32evtlog\n",
      "adodbapi            greenlet            pyparsing           win32evtlogutil\n",
      "afxres              gridfs              pytest              win32file\n",
      "aifc                gzip                pythoncom           win32gui\n",
      "alabaster           h5py                pytz                win32gui_struct\n",
      "anaconda_navigator  hashlib             pywin               win32help\n",
      "anaconda_project    heapdict            pywin32_testutil    win32inet\n",
      "antigravity         heapq               pywintypes          win32inetcon\n",
      "argparse            hmac                pywt                win32job\n",
      "array               html                pyximport           win32lz\n",
      "asn1crypto          html5lib            qtawesome           win32net\n",
      "ast                 http                qtconsole           win32netcon\n",
      "astroid             idlelib             qtpy                win32pdh\n",
      "astropy             idna                queue               win32pdhquery\n",
      "asynchat            imageio             quopri              win32pdhutil\n",
      "asyncio             imagesize           random              win32pipe\n",
      "asyncore            imaplib             rasutil             win32print\n",
      "atexit              imghdr              re                  win32process\n",
      "audioop             imp                 regcheck            win32profile\n",
      "autoreload          importlib           regutil             win32ras\n",
      "babel               inspect             reprlib             win32rcparser\n",
      "backports           io                  requests            win32security\n",
      "base64              ipaddress           rlcompleter         win32service\n",
      "bdb                 ipykernel           rmagic              win32serviceutil\n",
      "binascii            ipykernel_launcher  rope                win32timezone\n",
      "binhex              ipython_genutils    ruamel_yaml         win32trace\n",
      "binstar_client      ipywidgets          run                 win32traceutil\n",
      "bisect              isapi               runpy               win32transaction\n",
      "bitarray            isort               sched               win32ts\n",
      "bkcharts            itertools           scipy               win32ui\n",
      "blaze               itsdangerous        scripts             win32uiole\n",
      "bleach              jdcal               seaborn             win32verstamp\n",
      "bokeh               jedi                secrets             win32wnet\n",
      "boto                jinja2              select              win_inet_pton\n",
      "bottleneck          json                selectors           win_unicode_console\n",
      "brain_builtin_inference jsonschema          servicemanager      wincertstore\n",
      "brain_collections   jupyter             setuptools          winerror\n",
      "brain_dateutil      jupyter_client      shelve              winioctlcon\n",
      "brain_fstrings      jupyter_console     shlex               winnt\n",
      "brain_functools     jupyter_core        shutil              winperf\n",
      "brain_gi            jupyterlab          signal              winreg\n",
      "brain_hashlib       jupyterlab_launcher simplegeneric       winsound\n",
      "brain_io            keyword             singledispatch      winxpgui\n",
      "brain_mechanize     kiwisolver          singledispatch_helpers winxptheme\n",
      "brain_multiprocessing lazy_object_proxy   sip                 wrapt\n",
      "brain_namedtuple_enum lib2to3             sipconfig           wsgiref\n",
      "brain_nose          linecache           sipdistutils        xdrlib\n",
      "brain_numpy         llvmlite            site                xlrd\n",
      "brain_pkg_resources locale              six                 xlsxwriter\n",
      "brain_pytest        locket              skimage             xlwings\n",
      "brain_qt            lockfile            sklearn             xlwt\n",
      "brain_re            logging             smtpd               xml\n",
      "brain_six           lxml                smtplib             xmlrpc\n",
      "brain_ssl           lzma                sndhdr              xxsubtype\n",
      "brain_subprocess    macpath             snowballstemmer     yaml\n",
      "brain_threading     macurl2path         socket              zict\n",
      "brain_typing        mailbox             socketserver        zipapp\n",
      "branca              mailcap             socks               zipfile\n",
      "bs4                 markupsafe          sockshandler        zipimport\n",
      "bson                marshal             sortedcollections   zlib\n",
      "builtins            math                sortedcontainers    zmq\n",
      "\n",
      "Enter any module name to get more help.  Or, type \"modules spam\" to search\n",
      "for modules whose name or summary contain the string \"spam\".\n",
      "\n"
     ]
    }
   ],
   "source": [
    "help(\"modules\")"
   ]
  },
  {
   "cell_type": "code",
   "execution_count": 2,
   "metadata": {},
   "outputs": [
    {
     "name": "stdout",
     "output_type": "stream",
     "text": [
      "\n",
      "Please wait a moment while I gather a list of all available modules...\n",
      "\n",
      "Crypto              bz2                 matplotlib          sphinx\n",
      "Cython              cProfile            mccabe              sphinxcontrib\n",
      "IPython             cachecontrol        menuinst            spyder\n",
      "OleFileIO_PL        calendar            mimetypes           spyder_breakpoints\n",
      "OpenSSL             certifi             mistune             spyder_io_dcm\n",
      "PIL                 cffi                mkl                 spyder_io_hdf5\n",
      "PyQt5               cgi                 mmap                spyder_profiler\n",
      "__future__          cgitb               mmapfile            spyder_pylint\n",
      "_ast                chardet             mmsystem            sqlalchemy\n",
      "_asyncio            chunk               modulefinder        sqlite3\n",
      "_bisect             click               mpmath              sre_compile\n",
      "_blake2             cloudpickle         msgpack             sre_constants\n",
      "_bootlocale         clyent              msilib              sre_parse\n",
      "_bz2                cmath               msvcrt              ssl\n",
      "_cffi_backend       cmd                 multipledispatch    sspi\n",
      "_codecs             code                multiprocessing     sspicon\n",
      "_codecs_cn          codecs              navigator_updater   stat\n",
      "_codecs_hk          codeop              nbconvert           statistics\n",
      "_codecs_iso2022     collections         nbformat            statsmodels\n",
      "_codecs_jp          colorama            netbios             storemagic\n",
      "_codecs_kr          colorsys            netrc               string\n",
      "_codecs_tw          commctrl            networkx            stringprep\n",
      "_collections        compileall          nltk                struct\n",
      "_collections_abc    comtypes            nntplib             subprocess\n",
      "_compat_pickle      concurrent          nose                sunau\n",
      "_compression        conda               notebook            symbol\n",
      "_csv                conda_build         nt                  sympy\n",
      "_ctypes             conda_env           ntpath              sympyprinting\n",
      "_ctypes_test        conda_verify        ntsecuritycon       symtable\n",
      "_datetime           configparser        nturl2path          sys\n",
      "_decimal            contextlib          numba               sysconfig\n",
      "_dummy_thread       contextlib2         numbers             tables\n",
      "_elementtree        copy                numexpr             tabnanny\n",
      "_findvs             copyreg             numpy               tarfile\n",
      "_functools          crypt               numpydoc            tblib\n",
      "_hashlib            cryptography        odbc                telnetlib\n",
      "_heapq              csv                 odo                 tempfile\n",
      "_imp                ctypes              olefile             test\n",
      "_io                 curl                opcode              test_path\n",
      "_json               curses              openpyxl            test_pycosat\n",
      "_locale             cwp                 operator            testpath\n",
      "_lsprof             cycler              optparse            tests\n",
      "_lzma               cython              os                  textwrap\n",
      "_markupbase         cythonmagic         packaging           this\n",
      "_md5                cytoolz             pandas              threading\n",
      "_msi                dask                pandocfilters       time\n",
      "_multibytecodec     datashape           parser              timeit\n",
      "_multiprocessing    datetime            partd               timer\n",
      "_nsis               dateutil            path                tkinter\n",
      "_opcode             dbi                 pathlib             tlz\n",
      "_operator           dbm                 pathlib2            token\n",
      "_osx_support        dde                 patsy               tokenize\n",
      "_overlapped         decimal             pdb                 toolz\n",
      "_pickle             decorator           pep8                tornado\n",
      "_pydecimal          difflib             perfmon             trace\n",
      "_pyio               dis                 pickle              traceback\n",
      "_pytest             distlib             pickleshare         tracemalloc\n",
      "_random             distributed         pickletools         traitlets\n",
      "_sha1               distutils           pip                 tty\n",
      "_sha256             doctest             pipes               turtle\n",
      "_sha3               docutils            pkg_resources       turtledemo\n",
      "_sha512             dummy_threading     pkginfo             types\n",
      "_signal             easy_install        pkgutil             typing\n",
      "_sitebuiltins       email               platform            unicodecsv\n",
      "_socket             encodings           plistlib            unicodedata\n",
      "_sqlite3            entrypoints         ply                 unittest\n",
      "_sre                enum                poplib              urllib\n",
      "_ssl                errno               posixpath           urllib3\n",
      "_stat               et_xmlfile          pprint              uu\n",
      "_string             fastcache           profile             uuid\n",
      "_strptime           faulthandler        progress            venv\n",
      "_struct             filecmp             prompt_toolkit      warnings\n",
      "_symtable           fileinput           pstats              wave\n",
      "_system_path        filelock            psutil              wcwidth\n",
      "_testbuffer         flask               pty                 weakref\n",
      "_testcapi           flask_cors          py                  webbrowser\n",
      "_testconsole        fnmatch             py_compile          webencodings\n",
      "_testimportmultiple folium              pyclbr              werkzeug\n",
      "_testmultiphase     formatter           pycodestyle         wheel\n",
      "_thread             fractions           pycosat             widgetsnbextension\n",
      "_threading_local    ftplib              pycparser           win2kras\n",
      "_tkinter            functools           pycurl              win32api\n",
      "_tracemalloc        gc                  pydoc               win32clipboard\n",
      "_warnings           genericpath         pydoc_data          win32com\n",
      "_weakref            getopt              pyexpat             win32con\n",
      "_weakrefset         getpass             pyflakes            win32console\n",
      "_win32sysloader     gettext             pygments            win32cred\n",
      "_winapi             gevent              pylab               win32crypt\n",
      "_winxptheme         glob                pylint              win32cryptcon\n",
      "_yaml               glob2               pymongo             win32event\n",
      "abc                 googlemaps          pyodbc              win32evtlog\n",
      "adodbapi            greenlet            pyparsing           win32evtlogutil\n",
      "afxres              gridfs              pytest              win32file\n",
      "aifc                gzip                pythoncom           win32gui\n",
      "alabaster           h5py                pytz                win32gui_struct\n",
      "anaconda_navigator  hashlib             pywin               win32help\n",
      "anaconda_project    heapdict            pywin32_testutil    win32inet\n",
      "antigravity         heapq               pywintypes          win32inetcon\n",
      "argparse            hmac                pywt                win32job\n",
      "array               html                pyximport           win32lz\n",
      "asn1crypto          html5lib            qtawesome           win32net\n",
      "ast                 http                qtconsole           win32netcon\n",
      "astroid             idlelib             qtpy                win32pdh\n",
      "astropy             idna                queue               win32pdhquery\n",
      "asynchat            imageio             quopri              win32pdhutil\n",
      "asyncio             imagesize           random              win32pipe\n",
      "asyncore            imaplib             rasutil             win32print\n",
      "atexit              imghdr              re                  win32process\n",
      "audioop             imp                 regcheck            win32profile\n",
      "autoreload          importlib           regutil             win32ras\n",
      "babel               inspect             reprlib             win32rcparser\n",
      "backports           io                  requests            win32security\n",
      "base64              ipaddress           rlcompleter         win32service\n",
      "bdb                 ipykernel           rmagic              win32serviceutil\n",
      "binascii            ipykernel_launcher  rope                win32timezone\n",
      "binhex              ipython_genutils    ruamel_yaml         win32trace\n",
      "binstar_client      ipywidgets          run                 win32traceutil\n",
      "bisect              isapi               runpy               win32transaction\n",
      "bitarray            isort               sched               win32ts\n",
      "bkcharts            itertools           scipy               win32ui\n",
      "blaze               itsdangerous        scripts             win32uiole\n",
      "bleach              jdcal               seaborn             win32verstamp\n",
      "bokeh               jedi                secrets             win32wnet\n",
      "boto                jinja2              select              win_inet_pton\n",
      "bottleneck          json                selectors           win_unicode_console\n",
      "brain_builtin_inference jsonschema          servicemanager      wincertstore\n",
      "brain_collections   jupyter             setuptools          winerror\n",
      "brain_dateutil      jupyter_client      shelve              winioctlcon\n",
      "brain_fstrings      jupyter_console     shlex               winnt\n",
      "brain_functools     jupyter_core        shutil              winperf\n",
      "brain_gi            jupyterlab          signal              winreg\n",
      "brain_hashlib       jupyterlab_launcher simplegeneric       winsound\n",
      "brain_io            keyword             singledispatch      winxpgui\n",
      "brain_mechanize     kiwisolver          singledispatch_helpers winxptheme\n",
      "brain_multiprocessing lazy_object_proxy   sip                 wrapt\n",
      "brain_namedtuple_enum lib2to3             sipconfig           wsgiref\n",
      "brain_nose          linecache           sipdistutils        xdrlib\n",
      "brain_numpy         llvmlite            site                xlrd\n",
      "brain_pkg_resources locale              six                 xlsxwriter\n",
      "brain_pytest        locket              skimage             xlwings\n",
      "brain_qt            lockfile            sklearn             xlwt\n",
      "brain_re            logging             smtpd               xml\n",
      "brain_six           lxml                smtplib             xmlrpc\n",
      "brain_ssl           lzma                sndhdr              xxsubtype\n",
      "brain_subprocess    macpath             snowballstemmer     yaml\n",
      "brain_threading     macurl2path         socket              zict\n",
      "brain_typing        mailbox             socketserver        zipapp\n",
      "branca              mailcap             socks               zipfile\n",
      "bs4                 markupsafe          sockshandler        zipimport\n",
      "bson                marshal             sortedcollections   zlib\n",
      "builtins            math                sortedcontainers    zmq\n",
      "\n",
      "Enter any module name to get more help.  Or, type \"modules spam\" to search\n",
      "for modules whose name or summary contain the string \"spam\".\n",
      "\n"
     ]
    },
    {
     "name": "stderr",
     "output_type": "stream",
     "text": [
      "C:\\Users\\student\\Anaconda3\\lib\\site-packages\\IPython\\kernel\\__init__.py:13: ShimWarning: The `IPython.kernel` package has been deprecated since IPython 4.0.You should import from ipykernel or jupyter_client instead.\n",
      "  \"You should import from ipykernel or jupyter_client instead.\", ShimWarning)\n",
      "WARNING: AstropyDeprecationWarning: The astropy.vo.samp module has now been moved to astropy.samp [astropy.vo.samp]\n",
      "C:\\Users\\student\\Anaconda3\\lib\\site-packages\\h5py\\__init__.py:34: FutureWarning: Conversion of the second argument of issubdtype from `float` to `np.floating` is deprecated. In future, it will be treated as `np.float64 == np.dtype(float).type`.\n",
      "  from ._conv import register_converters as _register_converters\n",
      "C:\\Users\\student\\Anaconda3\\lib\\site-packages\\odo\\backends\\pandas.py:102: FutureWarning: pandas.tslib is deprecated and will be removed in a future version.\n",
      "You can access NaTType as type(pandas.NaT)\n",
      "  @convert.register((pd.Timestamp, pd.Timedelta), (pd.tslib.NaTType, type(None)))\n",
      "C:\\Users\\student\\Anaconda3\\lib\\site-packages\\nltk\\twitter\\__init__.py:20: UserWarning: The twython library has not been installed. Some functionality from the twitter package will not be available.\n",
      "  warnings.warn(\"The twython library has not been installed. \"\n",
      "C:\\Users\\student\\Anaconda3\\lib\\site-packages\\sklearn\\ensemble\\weight_boosting.py:29: DeprecationWarning: numpy.core.umath_tests is an internal NumPy module and should not be imported. It will be removed in a future NumPy release.\n",
      "  from numpy.core.umath_tests import inner1d\n",
      "C:\\Users\\student\\Anaconda3\\lib\\site-packages\\qtawesome\\iconic_font.py:268: UserWarning: You need to have a running QApplication to use QtAwesome!\n",
      "  warnings.warn(\"You need to have a running \"\n",
      "C:\\Users\\student\\Anaconda3\\lib\\site-packages\\statsmodels\\compat\\pandas.py:56: FutureWarning: The pandas.core.datetools module is deprecated and will be removed in a future version. Please use the pandas.tseries module instead.\n",
      "  from pandas.core import datetools\n"
     ]
    }
   ],
   "source": [
    "!pydoc modules"
   ]
  },
  {
   "cell_type": "code",
   "execution_count": 3,
   "metadata": {
    "collapsed": true
   },
   "outputs": [],
   "source": [
    "import calendar"
   ]
  },
  {
   "cell_type": "code",
   "execution_count": 4,
   "metadata": {},
   "outputs": [
    {
     "data": {
      "text/plain": [
       "['Calendar',\n",
       " 'EPOCH',\n",
       " 'FRIDAY',\n",
       " 'February',\n",
       " 'HTMLCalendar',\n",
       " 'IllegalMonthError',\n",
       " 'IllegalWeekdayError',\n",
       " 'January',\n",
       " 'LocaleHTMLCalendar',\n",
       " 'LocaleTextCalendar',\n",
       " 'MONDAY',\n",
       " 'SATURDAY',\n",
       " 'SUNDAY',\n",
       " 'THURSDAY',\n",
       " 'TUESDAY',\n",
       " 'TextCalendar',\n",
       " 'WEDNESDAY',\n",
       " '_EPOCH_ORD',\n",
       " '__all__',\n",
       " '__builtins__',\n",
       " '__cached__',\n",
       " '__doc__',\n",
       " '__file__',\n",
       " '__loader__',\n",
       " '__name__',\n",
       " '__package__',\n",
       " '__spec__',\n",
       " '_colwidth',\n",
       " '_locale',\n",
       " '_localized_day',\n",
       " '_localized_month',\n",
       " '_spacing',\n",
       " 'c',\n",
       " 'calendar',\n",
       " 'datetime',\n",
       " 'day_abbr',\n",
       " 'day_name',\n",
       " 'different_locale',\n",
       " 'error',\n",
       " 'firstweekday',\n",
       " 'format',\n",
       " 'formatstring',\n",
       " 'isleap',\n",
       " 'leapdays',\n",
       " 'main',\n",
       " 'mdays',\n",
       " 'month',\n",
       " 'month_abbr',\n",
       " 'month_name',\n",
       " 'monthcalendar',\n",
       " 'monthrange',\n",
       " 'prcal',\n",
       " 'prmonth',\n",
       " 'prweek',\n",
       " 'repeat',\n",
       " 'setfirstweekday',\n",
       " 'sys',\n",
       " 'timegm',\n",
       " 'week',\n",
       " 'weekday',\n",
       " 'weekheader']"
      ]
     },
     "execution_count": 4,
     "metadata": {},
     "output_type": "execute_result"
    }
   ],
   "source": [
    "dir(calendar) "
   ]
  },
  {
   "cell_type": "code",
   "execution_count": 5,
   "metadata": {
    "collapsed": true
   },
   "outputs": [],
   "source": [
    "#calendar.prmonth?"
   ]
  },
  {
   "cell_type": "code",
   "execution_count": 6,
   "metadata": {},
   "outputs": [
    {
     "name": "stdout",
     "output_type": "stream",
     "text": [
      "Help on method prmonth in module calendar:\n",
      "\n",
      "prmonth(theyear, themonth, w=0, l=0) method of calendar.TextCalendar instance\n",
      "    Print a month's calendar.\n",
      "\n"
     ]
    }
   ],
   "source": [
    "help(calendar.prmonth)"
   ]
  },
  {
   "cell_type": "code",
   "execution_count": 7,
   "metadata": {},
   "outputs": [
    {
     "name": "stdout",
     "output_type": "stream",
     "text": [
      "    August 2020\n",
      "Mo Tu We Th Fr Sa Su\n",
      "                1  2\n",
      " 3  4  5  6  7  8  9\n",
      "10 11 12 13 14 15 16\n",
      "17 18 19 20 21 22 23\n",
      "24 25 26 27 28 29 30\n",
      "31\n"
     ]
    }
   ],
   "source": [
    "calendar.prmonth(2020, 8) "
   ]
  },
  {
   "cell_type": "code",
   "execution_count": 8,
   "metadata": {
    "collapsed": true
   },
   "outputs": [],
   "source": [
    "from datetime import date"
   ]
  },
  {
   "cell_type": "code",
   "execution_count": 9,
   "metadata": {},
   "outputs": [
    {
     "data": {
      "text/plain": [
       "datetime.date(2020, 7, 21)"
      ]
     },
     "execution_count": 9,
     "metadata": {},
     "output_type": "execute_result"
    }
   ],
   "source": [
    "t = date.today()\n",
    "t"
   ]
  },
  {
   "cell_type": "code",
   "execution_count": null,
   "metadata": {
    "collapsed": true
   },
   "outputs": [],
   "source": [
    "#datetime.date.today()"
   ]
  },
  {
   "cell_type": "code",
   "execution_count": 10,
   "metadata": {
    "collapsed": true
   },
   "outputs": [],
   "source": [
    "s = \"python\""
   ]
  },
  {
   "cell_type": "code",
   "execution_count": 11,
   "metadata": {},
   "outputs": [
    {
     "data": {
      "text/plain": [
       "str"
      ]
     },
     "execution_count": 11,
     "metadata": {},
     "output_type": "execute_result"
    }
   ],
   "source": [
    "type(s)"
   ]
  },
  {
   "cell_type": "code",
   "execution_count": 12,
   "metadata": {},
   "outputs": [
    {
     "data": {
      "text/plain": [
       "'Python'"
      ]
     },
     "execution_count": 12,
     "metadata": {},
     "output_type": "execute_result"
    }
   ],
   "source": [
    "s.title()"
   ]
  },
  {
   "cell_type": "code",
   "execution_count": 13,
   "metadata": {},
   "outputs": [
    {
     "data": {
      "text/plain": [
       "6"
      ]
     },
     "execution_count": 13,
     "metadata": {},
     "output_type": "execute_result"
    }
   ],
   "source": [
    "len(s)"
   ]
  }
 ],
 "metadata": {
  "kernelspec": {
   "display_name": "Python 3",
   "language": "python",
   "name": "python3"
  },
  "language_info": {
   "codemirror_mode": {
    "name": "ipython",
    "version": 3
   },
   "file_extension": ".py",
   "mimetype": "text/x-python",
   "name": "python",
   "nbconvert_exporter": "python",
   "pygments_lexer": "ipython3",
   "version": "3.6.3"
  }
 },
 "nbformat": 4,
 "nbformat_minor": 2
}
