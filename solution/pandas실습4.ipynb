{
 "cells": [
  {
   "cell_type": "code",
   "execution_count": 1,
   "metadata": {
    "collapsed": true
   },
   "outputs": [],
   "source": [
    "import numpy as np\n",
    "import pandas as pd"
   ]
  },
  {
   "cell_type": "code",
   "execution_count": 2,
   "metadata": {},
   "outputs": [
    {
     "data": {
      "text/html": [
       "<div>\n",
       "<style scoped>\n",
       "    .dataframe tbody tr th:only-of-type {\n",
       "        vertical-align: middle;\n",
       "    }\n",
       "\n",
       "    .dataframe tbody tr th {\n",
       "        vertical-align: top;\n",
       "    }\n",
       "\n",
       "    .dataframe thead th {\n",
       "        text-align: right;\n",
       "    }\n",
       "</style>\n",
       "<table border=\"1\" class=\"dataframe\">\n",
       "  <thead>\n",
       "    <tr style=\"text-align: right;\">\n",
       "      <th></th>\n",
       "      <th>first</th>\n",
       "      <th>second</th>\n",
       "    </tr>\n",
       "  </thead>\n",
       "  <tbody>\n",
       "    <tr>\n",
       "      <th>a</th>\n",
       "      <td>9.90</td>\n",
       "      <td>8.8</td>\n",
       "    </tr>\n",
       "    <tr>\n",
       "      <th>b</th>\n",
       "      <td>NaN</td>\n",
       "      <td>6.6</td>\n",
       "    </tr>\n",
       "    <tr>\n",
       "      <th>c</th>\n",
       "      <td>7.70</td>\n",
       "      <td>NaN</td>\n",
       "    </tr>\n",
       "    <tr>\n",
       "      <th>d</th>\n",
       "      <td>0.99</td>\n",
       "      <td>9.8</td>\n",
       "    </tr>\n",
       "  </tbody>\n",
       "</table>\n",
       "</div>"
      ],
      "text/plain": [
       "   first  second\n",
       "a   9.90     8.8\n",
       "b    NaN     6.6\n",
       "c   7.70     NaN\n",
       "d   0.99     9.8"
      ]
     },
     "execution_count": 2,
     "metadata": {},
     "output_type": "execute_result"
    }
   ],
   "source": [
    "data = [[9.9, 8.8], [np.nan, 6.6],[7.7, np.nan],  [0.99, 9.8]]\n",
    "df = pd.DataFrame(data, columns=[\"first\", \"second\"], index=[\"a\", \"b\", \"c\", \"d\"]) \n",
    "df"
   ]
  },
  {
   "cell_type": "code",
   "execution_count": 3,
   "metadata": {},
   "outputs": [
    {
     "data": {
      "text/plain": [
       "first     18.59\n",
       "second    25.20\n",
       "dtype: float64"
      ]
     },
     "execution_count": 3,
     "metadata": {},
     "output_type": "execute_result"
    }
   ],
   "source": [
    "df.sum(axis=0)"
   ]
  },
  {
   "cell_type": "code",
   "execution_count": 4,
   "metadata": {},
   "outputs": [
    {
     "data": {
      "text/plain": [
       "a    18.70\n",
       "b     6.60\n",
       "c     7.70\n",
       "d    10.79\n",
       "dtype: float64"
      ]
     },
     "execution_count": 4,
     "metadata": {},
     "output_type": "execute_result"
    }
   ],
   "source": [
    "df.sum(axis=1)"
   ]
  },
  {
   "cell_type": "code",
   "execution_count": 6,
   "metadata": {
    "collapsed": true
   },
   "outputs": [],
   "source": [
    "#df.sum?"
   ]
  },
  {
   "cell_type": "code",
   "execution_count": 7,
   "metadata": {},
   "outputs": [
    {
     "data": {
      "text/html": [
       "<div>\n",
       "<style scoped>\n",
       "    .dataframe tbody tr th:only-of-type {\n",
       "        vertical-align: middle;\n",
       "    }\n",
       "\n",
       "    .dataframe tbody tr th {\n",
       "        vertical-align: top;\n",
       "    }\n",
       "\n",
       "    .dataframe thead th {\n",
       "        text-align: right;\n",
       "    }\n",
       "</style>\n",
       "<table border=\"1\" class=\"dataframe\">\n",
       "  <thead>\n",
       "    <tr style=\"text-align: right;\">\n",
       "      <th></th>\n",
       "      <th>first</th>\n",
       "      <th>second</th>\n",
       "    </tr>\n",
       "  </thead>\n",
       "  <tbody>\n",
       "    <tr>\n",
       "      <th>a</th>\n",
       "      <td>9.90</td>\n",
       "      <td>8.8</td>\n",
       "    </tr>\n",
       "    <tr>\n",
       "      <th>b</th>\n",
       "      <td>NaN</td>\n",
       "      <td>6.6</td>\n",
       "    </tr>\n",
       "    <tr>\n",
       "      <th>c</th>\n",
       "      <td>7.70</td>\n",
       "      <td>NaN</td>\n",
       "    </tr>\n",
       "    <tr>\n",
       "      <th>d</th>\n",
       "      <td>0.99</td>\n",
       "      <td>9.8</td>\n",
       "    </tr>\n",
       "  </tbody>\n",
       "</table>\n",
       "</div>"
      ],
      "text/plain": [
       "   first  second\n",
       "a   9.90     8.8\n",
       "b    NaN     6.6\n",
       "c   7.70     NaN\n",
       "d   0.99     9.8"
      ]
     },
     "execution_count": 7,
     "metadata": {},
     "output_type": "execute_result"
    }
   ],
   "source": [
    "df"
   ]
  },
  {
   "cell_type": "code",
   "execution_count": 8,
   "metadata": {},
   "outputs": [
    {
     "data": {
      "text/plain": [
       "18.59"
      ]
     },
     "execution_count": 8,
     "metadata": {},
     "output_type": "execute_result"
    }
   ],
   "source": [
    "df['first'].sum() "
   ]
  },
  {
   "cell_type": "code",
   "execution_count": 9,
   "metadata": {},
   "outputs": [
    {
     "data": {
      "text/plain": [
       "8.4"
      ]
     },
     "execution_count": 9,
     "metadata": {},
     "output_type": "execute_result"
    }
   ],
   "source": [
    "df['second'].mean()"
   ]
  },
  {
   "cell_type": "code",
   "execution_count": 10,
   "metadata": {},
   "outputs": [
    {
     "data": {
      "text/plain": [
       "18.700000000000003"
      ]
     },
     "execution_count": 10,
     "metadata": {},
     "output_type": "execute_result"
    }
   ],
   "source": [
    "df.loc['a'].sum() "
   ]
  },
  {
   "cell_type": "code",
   "execution_count": 11,
   "metadata": {},
   "outputs": [
    {
     "data": {
      "text/plain": [
       "a    9.350\n",
       "b      NaN\n",
       "c      NaN\n",
       "d    5.395\n",
       "dtype: float64"
      ]
     },
     "execution_count": 11,
     "metadata": {},
     "output_type": "execute_result"
    }
   ],
   "source": [
    "df.mean(axis=1, skipna=False)"
   ]
  },
  {
   "cell_type": "code",
   "execution_count": 12,
   "metadata": {
    "collapsed": true
   },
   "outputs": [],
   "source": [
    "first_mean = df.mean(axis=0)['first']"
   ]
  },
  {
   "cell_type": "code",
   "execution_count": 13,
   "metadata": {
    "collapsed": true
   },
   "outputs": [],
   "source": [
    "second_min = df.min(axis=0)['second']"
   ]
  },
  {
   "cell_type": "code",
   "execution_count": 14,
   "metadata": {},
   "outputs": [
    {
     "data": {
      "text/html": [
       "<div>\n",
       "<style scoped>\n",
       "    .dataframe tbody tr th:only-of-type {\n",
       "        vertical-align: middle;\n",
       "    }\n",
       "\n",
       "    .dataframe tbody tr th {\n",
       "        vertical-align: top;\n",
       "    }\n",
       "\n",
       "    .dataframe thead th {\n",
       "        text-align: right;\n",
       "    }\n",
       "</style>\n",
       "<table border=\"1\" class=\"dataframe\">\n",
       "  <thead>\n",
       "    <tr style=\"text-align: right;\">\n",
       "      <th></th>\n",
       "      <th>first</th>\n",
       "      <th>second</th>\n",
       "    </tr>\n",
       "  </thead>\n",
       "  <tbody>\n",
       "    <tr>\n",
       "      <th>a</th>\n",
       "      <td>9.90</td>\n",
       "      <td>8.8</td>\n",
       "    </tr>\n",
       "    <tr>\n",
       "      <th>b</th>\n",
       "      <td>NaN</td>\n",
       "      <td>6.6</td>\n",
       "    </tr>\n",
       "    <tr>\n",
       "      <th>c</th>\n",
       "      <td>7.70</td>\n",
       "      <td>NaN</td>\n",
       "    </tr>\n",
       "    <tr>\n",
       "      <th>d</th>\n",
       "      <td>0.99</td>\n",
       "      <td>9.8</td>\n",
       "    </tr>\n",
       "  </tbody>\n",
       "</table>\n",
       "</div>"
      ],
      "text/plain": [
       "   first  second\n",
       "a   9.90     8.8\n",
       "b    NaN     6.6\n",
       "c   7.70     NaN\n",
       "d   0.99     9.8"
      ]
     },
     "execution_count": 14,
     "metadata": {},
     "output_type": "execute_result"
    }
   ],
   "source": [
    "df"
   ]
  },
  {
   "cell_type": "code",
   "execution_count": 15,
   "metadata": {
    "collapsed": true
   },
   "outputs": [],
   "source": [
    "df['first'] = df['first'].fillna(value=first_mean) "
   ]
  },
  {
   "cell_type": "code",
   "execution_count": 16,
   "metadata": {
    "collapsed": true
   },
   "outputs": [],
   "source": [
    "df['second'] = df['second'].fillna(value=second_min)"
   ]
  },
  {
   "cell_type": "code",
   "execution_count": 17,
   "metadata": {},
   "outputs": [
    {
     "data": {
      "text/html": [
       "<div>\n",
       "<style scoped>\n",
       "    .dataframe tbody tr th:only-of-type {\n",
       "        vertical-align: middle;\n",
       "    }\n",
       "\n",
       "    .dataframe tbody tr th {\n",
       "        vertical-align: top;\n",
       "    }\n",
       "\n",
       "    .dataframe thead th {\n",
       "        text-align: right;\n",
       "    }\n",
       "</style>\n",
       "<table border=\"1\" class=\"dataframe\">\n",
       "  <thead>\n",
       "    <tr style=\"text-align: right;\">\n",
       "      <th></th>\n",
       "      <th>first</th>\n",
       "      <th>second</th>\n",
       "    </tr>\n",
       "  </thead>\n",
       "  <tbody>\n",
       "    <tr>\n",
       "      <th>a</th>\n",
       "      <td>9.900000</td>\n",
       "      <td>8.8</td>\n",
       "    </tr>\n",
       "    <tr>\n",
       "      <th>b</th>\n",
       "      <td>6.196667</td>\n",
       "      <td>6.6</td>\n",
       "    </tr>\n",
       "    <tr>\n",
       "      <th>c</th>\n",
       "      <td>7.700000</td>\n",
       "      <td>6.6</td>\n",
       "    </tr>\n",
       "    <tr>\n",
       "      <th>d</th>\n",
       "      <td>0.990000</td>\n",
       "      <td>9.8</td>\n",
       "    </tr>\n",
       "  </tbody>\n",
       "</table>\n",
       "</div>"
      ],
      "text/plain": [
       "      first  second\n",
       "a  9.900000     8.8\n",
       "b  6.196667     6.6\n",
       "c  7.700000     6.6\n",
       "d  0.990000     9.8"
      ]
     },
     "execution_count": 17,
     "metadata": {},
     "output_type": "execute_result"
    }
   ],
   "source": [
    "df"
   ]
  },
  {
   "cell_type": "code",
   "execution_count": 18,
   "metadata": {},
   "outputs": [
    {
     "data": {
      "text/html": [
       "<div>\n",
       "<style scoped>\n",
       "    .dataframe tbody tr th:only-of-type {\n",
       "        vertical-align: middle;\n",
       "    }\n",
       "\n",
       "    .dataframe tbody tr th {\n",
       "        vertical-align: top;\n",
       "    }\n",
       "\n",
       "    .dataframe thead th {\n",
       "        text-align: right;\n",
       "    }\n",
       "</style>\n",
       "<table border=\"1\" class=\"dataframe\">\n",
       "  <thead>\n",
       "    <tr style=\"text-align: right;\">\n",
       "      <th></th>\n",
       "      <th>A</th>\n",
       "      <th>B</th>\n",
       "      <th>C</th>\n",
       "      <th>D</th>\n",
       "    </tr>\n",
       "  </thead>\n",
       "  <tbody>\n",
       "    <tr>\n",
       "      <th>2018-02-20</th>\n",
       "      <td>0.190794</td>\n",
       "      <td>0.378614</td>\n",
       "      <td>-0.758124</td>\n",
       "      <td>-0.387111</td>\n",
       "    </tr>\n",
       "    <tr>\n",
       "      <th>2018-02-21</th>\n",
       "      <td>0.753806</td>\n",
       "      <td>-1.872854</td>\n",
       "      <td>-0.746217</td>\n",
       "      <td>-0.394940</td>\n",
       "    </tr>\n",
       "    <tr>\n",
       "      <th>2018-02-22</th>\n",
       "      <td>0.903633</td>\n",
       "      <td>1.019463</td>\n",
       "      <td>1.061723</td>\n",
       "      <td>0.018263</td>\n",
       "    </tr>\n",
       "    <tr>\n",
       "      <th>2018-02-23</th>\n",
       "      <td>2.704307</td>\n",
       "      <td>-0.887994</td>\n",
       "      <td>-0.732248</td>\n",
       "      <td>0.839346</td>\n",
       "    </tr>\n",
       "    <tr>\n",
       "      <th>2018-02-24</th>\n",
       "      <td>-2.589921</td>\n",
       "      <td>0.687551</td>\n",
       "      <td>0.566321</td>\n",
       "      <td>0.042444</td>\n",
       "    </tr>\n",
       "    <tr>\n",
       "      <th>2018-02-25</th>\n",
       "      <td>-0.183368</td>\n",
       "      <td>-1.991175</td>\n",
       "      <td>2.101720</td>\n",
       "      <td>2.031385</td>\n",
       "    </tr>\n",
       "  </tbody>\n",
       "</table>\n",
       "</div>"
      ],
      "text/plain": [
       "                   A         B         C         D\n",
       "2018-02-20  0.190794  0.378614 -0.758124 -0.387111\n",
       "2018-02-21  0.753806 -1.872854 -0.746217 -0.394940\n",
       "2018-02-22  0.903633  1.019463  1.061723  0.018263\n",
       "2018-02-23  2.704307 -0.887994 -0.732248  0.839346\n",
       "2018-02-24 -2.589921  0.687551  0.566321  0.042444\n",
       "2018-02-25 -0.183368 -1.991175  2.101720  2.031385"
      ]
     },
     "execution_count": 18,
     "metadata": {},
     "output_type": "execute_result"
    }
   ],
   "source": [
    "df2 = pd.DataFrame(np.random.randn(6, 4),\n",
    "                   columns=[\"A\", \"B\", \"C\", \"D\"],\n",
    "                   index=pd.date_range(\"20180220\", periods=6)) \n",
    "df2"
   ]
  },
  {
   "cell_type": "code",
   "execution_count": 19,
   "metadata": {},
   "outputs": [
    {
     "data": {
      "text/html": [
       "<div>\n",
       "<style scoped>\n",
       "    .dataframe tbody tr th:only-of-type {\n",
       "        vertical-align: middle;\n",
       "    }\n",
       "\n",
       "    .dataframe tbody tr th {\n",
       "        vertical-align: top;\n",
       "    }\n",
       "\n",
       "    .dataframe thead th {\n",
       "        text-align: right;\n",
       "    }\n",
       "</style>\n",
       "<table border=\"1\" class=\"dataframe\">\n",
       "  <thead>\n",
       "    <tr style=\"text-align: right;\">\n",
       "      <th></th>\n",
       "      <th>A</th>\n",
       "      <th>B</th>\n",
       "      <th>C</th>\n",
       "      <th>D</th>\n",
       "    </tr>\n",
       "  </thead>\n",
       "  <tbody>\n",
       "    <tr>\n",
       "      <th>A</th>\n",
       "      <td>1.000000</td>\n",
       "      <td>-0.301513</td>\n",
       "      <td>-0.388816</td>\n",
       "      <td>0.098372</td>\n",
       "    </tr>\n",
       "    <tr>\n",
       "      <th>B</th>\n",
       "      <td>-0.301513</td>\n",
       "      <td>1.000000</td>\n",
       "      <td>-0.036524</td>\n",
       "      <td>-0.517148</td>\n",
       "    </tr>\n",
       "    <tr>\n",
       "      <th>C</th>\n",
       "      <td>-0.388816</td>\n",
       "      <td>-0.036524</td>\n",
       "      <td>1.000000</td>\n",
       "      <td>0.670680</td>\n",
       "    </tr>\n",
       "    <tr>\n",
       "      <th>D</th>\n",
       "      <td>0.098372</td>\n",
       "      <td>-0.517148</td>\n",
       "      <td>0.670680</td>\n",
       "      <td>1.000000</td>\n",
       "    </tr>\n",
       "  </tbody>\n",
       "</table>\n",
       "</div>"
      ],
      "text/plain": [
       "          A         B         C         D\n",
       "A  1.000000 -0.301513 -0.388816  0.098372\n",
       "B -0.301513  1.000000 -0.036524 -0.517148\n",
       "C -0.388816 -0.036524  1.000000  0.670680\n",
       "D  0.098372 -0.517148  0.670680  1.000000"
      ]
     },
     "execution_count": 19,
     "metadata": {},
     "output_type": "execute_result"
    }
   ],
   "source": [
    "df2.corr() "
   ]
  },
  {
   "cell_type": "code",
   "execution_count": 20,
   "metadata": {},
   "outputs": [
    {
     "data": {
      "text/plain": [
       "-0.3015128851236897"
      ]
     },
     "execution_count": 20,
     "metadata": {},
     "output_type": "execute_result"
    }
   ],
   "source": [
    "df2['A'].corr(df2['B']) "
   ]
  },
  {
   "cell_type": "code",
   "execution_count": 21,
   "metadata": {},
   "outputs": [
    {
     "data": {
      "text/plain": [
       "-0.03652399220304839"
      ]
     },
     "execution_count": 21,
     "metadata": {},
     "output_type": "execute_result"
    }
   ],
   "source": [
    "df2['B'].corr(df2['C'])"
   ]
  },
  {
   "cell_type": "code",
   "execution_count": 22,
   "metadata": {},
   "outputs": [
    {
     "data": {
      "text/plain": [
       "0.7503015446731468"
      ]
     },
     "execution_count": 22,
     "metadata": {},
     "output_type": "execute_result"
    }
   ],
   "source": [
    "df2['C'].cov(df2['D']) "
   ]
  },
  {
   "cell_type": "code",
   "execution_count": 23,
   "metadata": {},
   "outputs": [
    {
     "data": {
      "text/plain": [
       "0.6706801177949271"
      ]
     },
     "execution_count": 23,
     "metadata": {},
     "output_type": "execute_result"
    }
   ],
   "source": [
    "df2['C'].corr(df2['D']) "
   ]
  },
  {
   "cell_type": "code",
   "execution_count": 24,
   "metadata": {},
   "outputs": [
    {
     "data": {
      "text/html": [
       "<div>\n",
       "<style scoped>\n",
       "    .dataframe tbody tr th:only-of-type {\n",
       "        vertical-align: middle;\n",
       "    }\n",
       "\n",
       "    .dataframe tbody tr th {\n",
       "        vertical-align: top;\n",
       "    }\n",
       "\n",
       "    .dataframe thead th {\n",
       "        text-align: right;\n",
       "    }\n",
       "</style>\n",
       "<table border=\"1\" class=\"dataframe\">\n",
       "  <thead>\n",
       "    <tr style=\"text-align: right;\">\n",
       "      <th></th>\n",
       "      <th>A</th>\n",
       "      <th>B</th>\n",
       "      <th>C</th>\n",
       "      <th>D</th>\n",
       "    </tr>\n",
       "  </thead>\n",
       "  <tbody>\n",
       "    <tr>\n",
       "      <th>A</th>\n",
       "      <td>2.989629</td>\n",
       "      <td>-0.688922</td>\n",
       "      <td>-0.804574</td>\n",
       "      <td>0.158997</td>\n",
       "    </tr>\n",
       "    <tr>\n",
       "      <th>B</th>\n",
       "      <td>-0.688922</td>\n",
       "      <td>1.746266</td>\n",
       "      <td>-0.057763</td>\n",
       "      <td>-0.638818</td>\n",
       "    </tr>\n",
       "    <tr>\n",
       "      <th>C</th>\n",
       "      <td>-0.804574</td>\n",
       "      <td>-0.057763</td>\n",
       "      <td>1.432277</td>\n",
       "      <td>0.750302</td>\n",
       "    </tr>\n",
       "    <tr>\n",
       "      <th>D</th>\n",
       "      <td>0.158997</td>\n",
       "      <td>-0.638818</td>\n",
       "      <td>0.750302</td>\n",
       "      <td>0.873803</td>\n",
       "    </tr>\n",
       "  </tbody>\n",
       "</table>\n",
       "</div>"
      ],
      "text/plain": [
       "          A         B         C         D\n",
       "A  2.989629 -0.688922 -0.804574  0.158997\n",
       "B -0.688922  1.746266 -0.057763 -0.638818\n",
       "C -0.804574 -0.057763  1.432277  0.750302\n",
       "D  0.158997 -0.638818  0.750302  0.873803"
      ]
     },
     "execution_count": 24,
     "metadata": {},
     "output_type": "execute_result"
    }
   ],
   "source": [
    "df2.cov()"
   ]
  },
  {
   "cell_type": "code",
   "execution_count": 25,
   "metadata": {
    "collapsed": true
   },
   "outputs": [],
   "source": [
    "dates = df2.index\n",
    "# permutation 은 치환\n",
    "random_dates = np.random.permutation(dates)\n",
    "# 무작위로 섞어봄. index 순서와 컬럼의 순서가 불규칙하게 변함\n",
    "df2 = df2.reindex(index=random_dates, columns=[\"D\", \"B\", \"C\", \"A\"]) "
   ]
  },
  {
   "cell_type": "code",
   "execution_count": 26,
   "metadata": {},
   "outputs": [
    {
     "data": {
      "text/html": [
       "<div>\n",
       "<style scoped>\n",
       "    .dataframe tbody tr th:only-of-type {\n",
       "        vertical-align: middle;\n",
       "    }\n",
       "\n",
       "    .dataframe tbody tr th {\n",
       "        vertical-align: top;\n",
       "    }\n",
       "\n",
       "    .dataframe thead th {\n",
       "        text-align: right;\n",
       "    }\n",
       "</style>\n",
       "<table border=\"1\" class=\"dataframe\">\n",
       "  <thead>\n",
       "    <tr style=\"text-align: right;\">\n",
       "      <th></th>\n",
       "      <th>D</th>\n",
       "      <th>B</th>\n",
       "      <th>C</th>\n",
       "      <th>A</th>\n",
       "    </tr>\n",
       "  </thead>\n",
       "  <tbody>\n",
       "    <tr>\n",
       "      <th>2018-02-23</th>\n",
       "      <td>0.839346</td>\n",
       "      <td>-0.887994</td>\n",
       "      <td>-0.732248</td>\n",
       "      <td>2.704307</td>\n",
       "    </tr>\n",
       "    <tr>\n",
       "      <th>2018-02-22</th>\n",
       "      <td>0.018263</td>\n",
       "      <td>1.019463</td>\n",
       "      <td>1.061723</td>\n",
       "      <td>0.903633</td>\n",
       "    </tr>\n",
       "    <tr>\n",
       "      <th>2018-02-25</th>\n",
       "      <td>2.031385</td>\n",
       "      <td>-1.991175</td>\n",
       "      <td>2.101720</td>\n",
       "      <td>-0.183368</td>\n",
       "    </tr>\n",
       "    <tr>\n",
       "      <th>2018-02-20</th>\n",
       "      <td>-0.387111</td>\n",
       "      <td>0.378614</td>\n",
       "      <td>-0.758124</td>\n",
       "      <td>0.190794</td>\n",
       "    </tr>\n",
       "    <tr>\n",
       "      <th>2018-02-21</th>\n",
       "      <td>-0.394940</td>\n",
       "      <td>-1.872854</td>\n",
       "      <td>-0.746217</td>\n",
       "      <td>0.753806</td>\n",
       "    </tr>\n",
       "    <tr>\n",
       "      <th>2018-02-24</th>\n",
       "      <td>0.042444</td>\n",
       "      <td>0.687551</td>\n",
       "      <td>0.566321</td>\n",
       "      <td>-2.589921</td>\n",
       "    </tr>\n",
       "  </tbody>\n",
       "</table>\n",
       "</div>"
      ],
      "text/plain": [
       "                   D         B         C         A\n",
       "2018-02-23  0.839346 -0.887994 -0.732248  2.704307\n",
       "2018-02-22  0.018263  1.019463  1.061723  0.903633\n",
       "2018-02-25  2.031385 -1.991175  2.101720 -0.183368\n",
       "2018-02-20 -0.387111  0.378614 -0.758124  0.190794\n",
       "2018-02-21 -0.394940 -1.872854 -0.746217  0.753806\n",
       "2018-02-24  0.042444  0.687551  0.566321 -2.589921"
      ]
     },
     "execution_count": 26,
     "metadata": {},
     "output_type": "execute_result"
    }
   ],
   "source": [
    "df2"
   ]
  },
  {
   "cell_type": "code",
   "execution_count": 27,
   "metadata": {},
   "outputs": [
    {
     "data": {
      "text/html": [
       "<div>\n",
       "<style scoped>\n",
       "    .dataframe tbody tr th:only-of-type {\n",
       "        vertical-align: middle;\n",
       "    }\n",
       "\n",
       "    .dataframe tbody tr th {\n",
       "        vertical-align: top;\n",
       "    }\n",
       "\n",
       "    .dataframe thead th {\n",
       "        text-align: right;\n",
       "    }\n",
       "</style>\n",
       "<table border=\"1\" class=\"dataframe\">\n",
       "  <thead>\n",
       "    <tr style=\"text-align: right;\">\n",
       "      <th></th>\n",
       "      <th>D</th>\n",
       "      <th>B</th>\n",
       "      <th>C</th>\n",
       "      <th>A</th>\n",
       "    </tr>\n",
       "  </thead>\n",
       "  <tbody>\n",
       "    <tr>\n",
       "      <th>2018-02-20</th>\n",
       "      <td>-0.387111</td>\n",
       "      <td>0.378614</td>\n",
       "      <td>-0.758124</td>\n",
       "      <td>0.190794</td>\n",
       "    </tr>\n",
       "    <tr>\n",
       "      <th>2018-02-21</th>\n",
       "      <td>-0.394940</td>\n",
       "      <td>-1.872854</td>\n",
       "      <td>-0.746217</td>\n",
       "      <td>0.753806</td>\n",
       "    </tr>\n",
       "    <tr>\n",
       "      <th>2018-02-22</th>\n",
       "      <td>0.018263</td>\n",
       "      <td>1.019463</td>\n",
       "      <td>1.061723</td>\n",
       "      <td>0.903633</td>\n",
       "    </tr>\n",
       "    <tr>\n",
       "      <th>2018-02-23</th>\n",
       "      <td>0.839346</td>\n",
       "      <td>-0.887994</td>\n",
       "      <td>-0.732248</td>\n",
       "      <td>2.704307</td>\n",
       "    </tr>\n",
       "    <tr>\n",
       "      <th>2018-02-24</th>\n",
       "      <td>0.042444</td>\n",
       "      <td>0.687551</td>\n",
       "      <td>0.566321</td>\n",
       "      <td>-2.589921</td>\n",
       "    </tr>\n",
       "    <tr>\n",
       "      <th>2018-02-25</th>\n",
       "      <td>2.031385</td>\n",
       "      <td>-1.991175</td>\n",
       "      <td>2.101720</td>\n",
       "      <td>-0.183368</td>\n",
       "    </tr>\n",
       "  </tbody>\n",
       "</table>\n",
       "</div>"
      ],
      "text/plain": [
       "                   D         B         C         A\n",
       "2018-02-20 -0.387111  0.378614 -0.758124  0.190794\n",
       "2018-02-21 -0.394940 -1.872854 -0.746217  0.753806\n",
       "2018-02-22  0.018263  1.019463  1.061723  0.903633\n",
       "2018-02-23  0.839346 -0.887994 -0.732248  2.704307\n",
       "2018-02-24  0.042444  0.687551  0.566321 -2.589921\n",
       "2018-02-25  2.031385 -1.991175  2.101720 -0.183368"
      ]
     },
     "execution_count": 27,
     "metadata": {},
     "output_type": "execute_result"
    }
   ],
   "source": [
    "df2.sort_index(axis=0)"
   ]
  },
  {
   "cell_type": "code",
   "execution_count": 28,
   "metadata": {},
   "outputs": [
    {
     "data": {
      "text/html": [
       "<div>\n",
       "<style scoped>\n",
       "    .dataframe tbody tr th:only-of-type {\n",
       "        vertical-align: middle;\n",
       "    }\n",
       "\n",
       "    .dataframe tbody tr th {\n",
       "        vertical-align: top;\n",
       "    }\n",
       "\n",
       "    .dataframe thead th {\n",
       "        text-align: right;\n",
       "    }\n",
       "</style>\n",
       "<table border=\"1\" class=\"dataframe\">\n",
       "  <thead>\n",
       "    <tr style=\"text-align: right;\">\n",
       "      <th></th>\n",
       "      <th>A</th>\n",
       "      <th>B</th>\n",
       "      <th>C</th>\n",
       "      <th>D</th>\n",
       "    </tr>\n",
       "  </thead>\n",
       "  <tbody>\n",
       "    <tr>\n",
       "      <th>2018-02-23</th>\n",
       "      <td>2.704307</td>\n",
       "      <td>-0.887994</td>\n",
       "      <td>-0.732248</td>\n",
       "      <td>0.839346</td>\n",
       "    </tr>\n",
       "    <tr>\n",
       "      <th>2018-02-22</th>\n",
       "      <td>0.903633</td>\n",
       "      <td>1.019463</td>\n",
       "      <td>1.061723</td>\n",
       "      <td>0.018263</td>\n",
       "    </tr>\n",
       "    <tr>\n",
       "      <th>2018-02-25</th>\n",
       "      <td>-0.183368</td>\n",
       "      <td>-1.991175</td>\n",
       "      <td>2.101720</td>\n",
       "      <td>2.031385</td>\n",
       "    </tr>\n",
       "    <tr>\n",
       "      <th>2018-02-20</th>\n",
       "      <td>0.190794</td>\n",
       "      <td>0.378614</td>\n",
       "      <td>-0.758124</td>\n",
       "      <td>-0.387111</td>\n",
       "    </tr>\n",
       "    <tr>\n",
       "      <th>2018-02-21</th>\n",
       "      <td>0.753806</td>\n",
       "      <td>-1.872854</td>\n",
       "      <td>-0.746217</td>\n",
       "      <td>-0.394940</td>\n",
       "    </tr>\n",
       "    <tr>\n",
       "      <th>2018-02-24</th>\n",
       "      <td>-2.589921</td>\n",
       "      <td>0.687551</td>\n",
       "      <td>0.566321</td>\n",
       "      <td>0.042444</td>\n",
       "    </tr>\n",
       "  </tbody>\n",
       "</table>\n",
       "</div>"
      ],
      "text/plain": [
       "                   A         B         C         D\n",
       "2018-02-23  2.704307 -0.887994 -0.732248  0.839346\n",
       "2018-02-22  0.903633  1.019463  1.061723  0.018263\n",
       "2018-02-25 -0.183368 -1.991175  2.101720  2.031385\n",
       "2018-02-20  0.190794  0.378614 -0.758124 -0.387111\n",
       "2018-02-21  0.753806 -1.872854 -0.746217 -0.394940\n",
       "2018-02-24 -2.589921  0.687551  0.566321  0.042444"
      ]
     },
     "execution_count": 28,
     "metadata": {},
     "output_type": "execute_result"
    }
   ],
   "source": [
    "df2.sort_index(axis=1)"
   ]
  },
  {
   "cell_type": "code",
   "execution_count": 29,
   "metadata": {
    "collapsed": true
   },
   "outputs": [],
   "source": [
    "#df2.sort_index?"
   ]
  },
  {
   "cell_type": "code",
   "execution_count": 30,
   "metadata": {},
   "outputs": [
    {
     "data": {
      "text/html": [
       "<div>\n",
       "<style scoped>\n",
       "    .dataframe tbody tr th:only-of-type {\n",
       "        vertical-align: middle;\n",
       "    }\n",
       "\n",
       "    .dataframe tbody tr th {\n",
       "        vertical-align: top;\n",
       "    }\n",
       "\n",
       "    .dataframe thead th {\n",
       "        text-align: right;\n",
       "    }\n",
       "</style>\n",
       "<table border=\"1\" class=\"dataframe\">\n",
       "  <thead>\n",
       "    <tr style=\"text-align: right;\">\n",
       "      <th></th>\n",
       "      <th>D</th>\n",
       "      <th>B</th>\n",
       "      <th>C</th>\n",
       "      <th>A</th>\n",
       "    </tr>\n",
       "  </thead>\n",
       "  <tbody>\n",
       "    <tr>\n",
       "      <th>2018-02-23</th>\n",
       "      <td>0.839346</td>\n",
       "      <td>-0.887994</td>\n",
       "      <td>-0.732248</td>\n",
       "      <td>2.704307</td>\n",
       "    </tr>\n",
       "    <tr>\n",
       "      <th>2018-02-22</th>\n",
       "      <td>0.018263</td>\n",
       "      <td>1.019463</td>\n",
       "      <td>1.061723</td>\n",
       "      <td>0.903633</td>\n",
       "    </tr>\n",
       "    <tr>\n",
       "      <th>2018-02-25</th>\n",
       "      <td>2.031385</td>\n",
       "      <td>-1.991175</td>\n",
       "      <td>2.101720</td>\n",
       "      <td>-0.183368</td>\n",
       "    </tr>\n",
       "    <tr>\n",
       "      <th>2018-02-20</th>\n",
       "      <td>-0.387111</td>\n",
       "      <td>0.378614</td>\n",
       "      <td>-0.758124</td>\n",
       "      <td>0.190794</td>\n",
       "    </tr>\n",
       "    <tr>\n",
       "      <th>2018-02-21</th>\n",
       "      <td>-0.394940</td>\n",
       "      <td>-1.872854</td>\n",
       "      <td>-0.746217</td>\n",
       "      <td>0.753806</td>\n",
       "    </tr>\n",
       "    <tr>\n",
       "      <th>2018-02-24</th>\n",
       "      <td>0.042444</td>\n",
       "      <td>0.687551</td>\n",
       "      <td>0.566321</td>\n",
       "      <td>-2.589921</td>\n",
       "    </tr>\n",
       "  </tbody>\n",
       "</table>\n",
       "</div>"
      ],
      "text/plain": [
       "                   D         B         C         A\n",
       "2018-02-23  0.839346 -0.887994 -0.732248  2.704307\n",
       "2018-02-22  0.018263  1.019463  1.061723  0.903633\n",
       "2018-02-25  2.031385 -1.991175  2.101720 -0.183368\n",
       "2018-02-20 -0.387111  0.378614 -0.758124  0.190794\n",
       "2018-02-21 -0.394940 -1.872854 -0.746217  0.753806\n",
       "2018-02-24  0.042444  0.687551  0.566321 -2.589921"
      ]
     },
     "execution_count": 30,
     "metadata": {},
     "output_type": "execute_result"
    }
   ],
   "source": [
    "df2"
   ]
  },
  {
   "cell_type": "code",
   "execution_count": 31,
   "metadata": {},
   "outputs": [
    {
     "data": {
      "text/html": [
       "<div>\n",
       "<style scoped>\n",
       "    .dataframe tbody tr th:only-of-type {\n",
       "        vertical-align: middle;\n",
       "    }\n",
       "\n",
       "    .dataframe tbody tr th {\n",
       "        vertical-align: top;\n",
       "    }\n",
       "\n",
       "    .dataframe thead th {\n",
       "        text-align: right;\n",
       "    }\n",
       "</style>\n",
       "<table border=\"1\" class=\"dataframe\">\n",
       "  <thead>\n",
       "    <tr style=\"text-align: right;\">\n",
       "      <th></th>\n",
       "      <th>D</th>\n",
       "      <th>B</th>\n",
       "      <th>C</th>\n",
       "      <th>A</th>\n",
       "    </tr>\n",
       "  </thead>\n",
       "  <tbody>\n",
       "    <tr>\n",
       "      <th>2018-02-25</th>\n",
       "      <td>2.031385</td>\n",
       "      <td>-1.991175</td>\n",
       "      <td>2.101720</td>\n",
       "      <td>-0.183368</td>\n",
       "    </tr>\n",
       "    <tr>\n",
       "      <th>2018-02-24</th>\n",
       "      <td>0.042444</td>\n",
       "      <td>0.687551</td>\n",
       "      <td>0.566321</td>\n",
       "      <td>-2.589921</td>\n",
       "    </tr>\n",
       "    <tr>\n",
       "      <th>2018-02-23</th>\n",
       "      <td>0.839346</td>\n",
       "      <td>-0.887994</td>\n",
       "      <td>-0.732248</td>\n",
       "      <td>2.704307</td>\n",
       "    </tr>\n",
       "    <tr>\n",
       "      <th>2018-02-22</th>\n",
       "      <td>0.018263</td>\n",
       "      <td>1.019463</td>\n",
       "      <td>1.061723</td>\n",
       "      <td>0.903633</td>\n",
       "    </tr>\n",
       "    <tr>\n",
       "      <th>2018-02-21</th>\n",
       "      <td>-0.394940</td>\n",
       "      <td>-1.872854</td>\n",
       "      <td>-0.746217</td>\n",
       "      <td>0.753806</td>\n",
       "    </tr>\n",
       "    <tr>\n",
       "      <th>2018-02-20</th>\n",
       "      <td>-0.387111</td>\n",
       "      <td>0.378614</td>\n",
       "      <td>-0.758124</td>\n",
       "      <td>0.190794</td>\n",
       "    </tr>\n",
       "  </tbody>\n",
       "</table>\n",
       "</div>"
      ],
      "text/plain": [
       "                   D         B         C         A\n",
       "2018-02-25  2.031385 -1.991175  2.101720 -0.183368\n",
       "2018-02-24  0.042444  0.687551  0.566321 -2.589921\n",
       "2018-02-23  0.839346 -0.887994 -0.732248  2.704307\n",
       "2018-02-22  0.018263  1.019463  1.061723  0.903633\n",
       "2018-02-21 -0.394940 -1.872854 -0.746217  0.753806\n",
       "2018-02-20 -0.387111  0.378614 -0.758124  0.190794"
      ]
     },
     "execution_count": 31,
     "metadata": {},
     "output_type": "execute_result"
    }
   ],
   "source": [
    "df2.sort_index(axis=0, ascending=False)"
   ]
  },
  {
   "cell_type": "code",
   "execution_count": 32,
   "metadata": {},
   "outputs": [
    {
     "data": {
      "text/html": [
       "<div>\n",
       "<style scoped>\n",
       "    .dataframe tbody tr th:only-of-type {\n",
       "        vertical-align: middle;\n",
       "    }\n",
       "\n",
       "    .dataframe tbody tr th {\n",
       "        vertical-align: top;\n",
       "    }\n",
       "\n",
       "    .dataframe thead th {\n",
       "        text-align: right;\n",
       "    }\n",
       "</style>\n",
       "<table border=\"1\" class=\"dataframe\">\n",
       "  <thead>\n",
       "    <tr style=\"text-align: right;\">\n",
       "      <th></th>\n",
       "      <th>D</th>\n",
       "      <th>C</th>\n",
       "      <th>B</th>\n",
       "      <th>A</th>\n",
       "    </tr>\n",
       "  </thead>\n",
       "  <tbody>\n",
       "    <tr>\n",
       "      <th>2018-02-23</th>\n",
       "      <td>0.839346</td>\n",
       "      <td>-0.732248</td>\n",
       "      <td>-0.887994</td>\n",
       "      <td>2.704307</td>\n",
       "    </tr>\n",
       "    <tr>\n",
       "      <th>2018-02-22</th>\n",
       "      <td>0.018263</td>\n",
       "      <td>1.061723</td>\n",
       "      <td>1.019463</td>\n",
       "      <td>0.903633</td>\n",
       "    </tr>\n",
       "    <tr>\n",
       "      <th>2018-02-25</th>\n",
       "      <td>2.031385</td>\n",
       "      <td>2.101720</td>\n",
       "      <td>-1.991175</td>\n",
       "      <td>-0.183368</td>\n",
       "    </tr>\n",
       "    <tr>\n",
       "      <th>2018-02-20</th>\n",
       "      <td>-0.387111</td>\n",
       "      <td>-0.758124</td>\n",
       "      <td>0.378614</td>\n",
       "      <td>0.190794</td>\n",
       "    </tr>\n",
       "    <tr>\n",
       "      <th>2018-02-21</th>\n",
       "      <td>-0.394940</td>\n",
       "      <td>-0.746217</td>\n",
       "      <td>-1.872854</td>\n",
       "      <td>0.753806</td>\n",
       "    </tr>\n",
       "    <tr>\n",
       "      <th>2018-02-24</th>\n",
       "      <td>0.042444</td>\n",
       "      <td>0.566321</td>\n",
       "      <td>0.687551</td>\n",
       "      <td>-2.589921</td>\n",
       "    </tr>\n",
       "  </tbody>\n",
       "</table>\n",
       "</div>"
      ],
      "text/plain": [
       "                   D         C         B         A\n",
       "2018-02-23  0.839346 -0.732248 -0.887994  2.704307\n",
       "2018-02-22  0.018263  1.061723  1.019463  0.903633\n",
       "2018-02-25  2.031385  2.101720 -1.991175 -0.183368\n",
       "2018-02-20 -0.387111 -0.758124  0.378614  0.190794\n",
       "2018-02-21 -0.394940 -0.746217 -1.872854  0.753806\n",
       "2018-02-24  0.042444  0.566321  0.687551 -2.589921"
      ]
     },
     "execution_count": 32,
     "metadata": {},
     "output_type": "execute_result"
    }
   ],
   "source": [
    "df2.sort_index(axis=1, ascending=False)"
   ]
  },
  {
   "cell_type": "code",
   "execution_count": 33,
   "metadata": {},
   "outputs": [
    {
     "data": {
      "text/html": [
       "<div>\n",
       "<style scoped>\n",
       "    .dataframe tbody tr th:only-of-type {\n",
       "        vertical-align: middle;\n",
       "    }\n",
       "\n",
       "    .dataframe tbody tr th {\n",
       "        vertical-align: top;\n",
       "    }\n",
       "\n",
       "    .dataframe thead th {\n",
       "        text-align: right;\n",
       "    }\n",
       "</style>\n",
       "<table border=\"1\" class=\"dataframe\">\n",
       "  <thead>\n",
       "    <tr style=\"text-align: right;\">\n",
       "      <th></th>\n",
       "      <th>D</th>\n",
       "      <th>B</th>\n",
       "      <th>C</th>\n",
       "      <th>A</th>\n",
       "    </tr>\n",
       "  </thead>\n",
       "  <tbody>\n",
       "    <tr>\n",
       "      <th>2018-02-23</th>\n",
       "      <td>0.839346</td>\n",
       "      <td>-0.887994</td>\n",
       "      <td>-0.732248</td>\n",
       "      <td>2.704307</td>\n",
       "    </tr>\n",
       "    <tr>\n",
       "      <th>2018-02-22</th>\n",
       "      <td>0.018263</td>\n",
       "      <td>1.019463</td>\n",
       "      <td>1.061723</td>\n",
       "      <td>0.903633</td>\n",
       "    </tr>\n",
       "    <tr>\n",
       "      <th>2018-02-25</th>\n",
       "      <td>2.031385</td>\n",
       "      <td>-1.991175</td>\n",
       "      <td>2.101720</td>\n",
       "      <td>-0.183368</td>\n",
       "    </tr>\n",
       "    <tr>\n",
       "      <th>2018-02-20</th>\n",
       "      <td>-0.387111</td>\n",
       "      <td>0.378614</td>\n",
       "      <td>-0.758124</td>\n",
       "      <td>0.190794</td>\n",
       "    </tr>\n",
       "    <tr>\n",
       "      <th>2018-02-21</th>\n",
       "      <td>-0.394940</td>\n",
       "      <td>-1.872854</td>\n",
       "      <td>-0.746217</td>\n",
       "      <td>0.753806</td>\n",
       "    </tr>\n",
       "    <tr>\n",
       "      <th>2018-02-24</th>\n",
       "      <td>0.042444</td>\n",
       "      <td>0.687551</td>\n",
       "      <td>0.566321</td>\n",
       "      <td>-2.589921</td>\n",
       "    </tr>\n",
       "  </tbody>\n",
       "</table>\n",
       "</div>"
      ],
      "text/plain": [
       "                   D         B         C         A\n",
       "2018-02-23  0.839346 -0.887994 -0.732248  2.704307\n",
       "2018-02-22  0.018263  1.019463  1.061723  0.903633\n",
       "2018-02-25  2.031385 -1.991175  2.101720 -0.183368\n",
       "2018-02-20 -0.387111  0.378614 -0.758124  0.190794\n",
       "2018-02-21 -0.394940 -1.872854 -0.746217  0.753806\n",
       "2018-02-24  0.042444  0.687551  0.566321 -2.589921"
      ]
     },
     "execution_count": 33,
     "metadata": {},
     "output_type": "execute_result"
    }
   ],
   "source": [
    "df2"
   ]
  },
  {
   "cell_type": "code",
   "execution_count": 35,
   "metadata": {
    "collapsed": true
   },
   "outputs": [],
   "source": [
    "#df2.sort_values?"
   ]
  },
  {
   "cell_type": "code",
   "execution_count": 36,
   "metadata": {},
   "outputs": [
    {
     "data": {
      "text/html": [
       "<div>\n",
       "<style scoped>\n",
       "    .dataframe tbody tr th:only-of-type {\n",
       "        vertical-align: middle;\n",
       "    }\n",
       "\n",
       "    .dataframe tbody tr th {\n",
       "        vertical-align: top;\n",
       "    }\n",
       "\n",
       "    .dataframe thead th {\n",
       "        text-align: right;\n",
       "    }\n",
       "</style>\n",
       "<table border=\"1\" class=\"dataframe\">\n",
       "  <thead>\n",
       "    <tr style=\"text-align: right;\">\n",
       "      <th></th>\n",
       "      <th>D</th>\n",
       "      <th>B</th>\n",
       "      <th>C</th>\n",
       "      <th>A</th>\n",
       "    </tr>\n",
       "  </thead>\n",
       "  <tbody>\n",
       "    <tr>\n",
       "      <th>2018-02-21</th>\n",
       "      <td>-0.394940</td>\n",
       "      <td>-1.872854</td>\n",
       "      <td>-0.746217</td>\n",
       "      <td>0.753806</td>\n",
       "    </tr>\n",
       "    <tr>\n",
       "      <th>2018-02-20</th>\n",
       "      <td>-0.387111</td>\n",
       "      <td>0.378614</td>\n",
       "      <td>-0.758124</td>\n",
       "      <td>0.190794</td>\n",
       "    </tr>\n",
       "    <tr>\n",
       "      <th>2018-02-22</th>\n",
       "      <td>0.018263</td>\n",
       "      <td>1.019463</td>\n",
       "      <td>1.061723</td>\n",
       "      <td>0.903633</td>\n",
       "    </tr>\n",
       "    <tr>\n",
       "      <th>2018-02-24</th>\n",
       "      <td>0.042444</td>\n",
       "      <td>0.687551</td>\n",
       "      <td>0.566321</td>\n",
       "      <td>-2.589921</td>\n",
       "    </tr>\n",
       "    <tr>\n",
       "      <th>2018-02-23</th>\n",
       "      <td>0.839346</td>\n",
       "      <td>-0.887994</td>\n",
       "      <td>-0.732248</td>\n",
       "      <td>2.704307</td>\n",
       "    </tr>\n",
       "    <tr>\n",
       "      <th>2018-02-25</th>\n",
       "      <td>2.031385</td>\n",
       "      <td>-1.991175</td>\n",
       "      <td>2.101720</td>\n",
       "      <td>-0.183368</td>\n",
       "    </tr>\n",
       "  </tbody>\n",
       "</table>\n",
       "</div>"
      ],
      "text/plain": [
       "                   D         B         C         A\n",
       "2018-02-21 -0.394940 -1.872854 -0.746217  0.753806\n",
       "2018-02-20 -0.387111  0.378614 -0.758124  0.190794\n",
       "2018-02-22  0.018263  1.019463  1.061723  0.903633\n",
       "2018-02-24  0.042444  0.687551  0.566321 -2.589921\n",
       "2018-02-23  0.839346 -0.887994 -0.732248  2.704307\n",
       "2018-02-25  2.031385 -1.991175  2.101720 -0.183368"
      ]
     },
     "execution_count": 36,
     "metadata": {},
     "output_type": "execute_result"
    }
   ],
   "source": [
    "df2.sort_values(by='D')"
   ]
  },
  {
   "cell_type": "code",
   "execution_count": 37,
   "metadata": {},
   "outputs": [
    {
     "data": {
      "text/html": [
       "<div>\n",
       "<style scoped>\n",
       "    .dataframe tbody tr th:only-of-type {\n",
       "        vertical-align: middle;\n",
       "    }\n",
       "\n",
       "    .dataframe tbody tr th {\n",
       "        vertical-align: top;\n",
       "    }\n",
       "\n",
       "    .dataframe thead th {\n",
       "        text-align: right;\n",
       "    }\n",
       "</style>\n",
       "<table border=\"1\" class=\"dataframe\">\n",
       "  <thead>\n",
       "    <tr style=\"text-align: right;\">\n",
       "      <th></th>\n",
       "      <th>D</th>\n",
       "      <th>B</th>\n",
       "      <th>C</th>\n",
       "      <th>A</th>\n",
       "    </tr>\n",
       "  </thead>\n",
       "  <tbody>\n",
       "    <tr>\n",
       "      <th>2018-02-22</th>\n",
       "      <td>0.018263</td>\n",
       "      <td>1.019463</td>\n",
       "      <td>1.061723</td>\n",
       "      <td>0.903633</td>\n",
       "    </tr>\n",
       "    <tr>\n",
       "      <th>2018-02-24</th>\n",
       "      <td>0.042444</td>\n",
       "      <td>0.687551</td>\n",
       "      <td>0.566321</td>\n",
       "      <td>-2.589921</td>\n",
       "    </tr>\n",
       "    <tr>\n",
       "      <th>2018-02-20</th>\n",
       "      <td>-0.387111</td>\n",
       "      <td>0.378614</td>\n",
       "      <td>-0.758124</td>\n",
       "      <td>0.190794</td>\n",
       "    </tr>\n",
       "    <tr>\n",
       "      <th>2018-02-23</th>\n",
       "      <td>0.839346</td>\n",
       "      <td>-0.887994</td>\n",
       "      <td>-0.732248</td>\n",
       "      <td>2.704307</td>\n",
       "    </tr>\n",
       "    <tr>\n",
       "      <th>2018-02-21</th>\n",
       "      <td>-0.394940</td>\n",
       "      <td>-1.872854</td>\n",
       "      <td>-0.746217</td>\n",
       "      <td>0.753806</td>\n",
       "    </tr>\n",
       "    <tr>\n",
       "      <th>2018-02-25</th>\n",
       "      <td>2.031385</td>\n",
       "      <td>-1.991175</td>\n",
       "      <td>2.101720</td>\n",
       "      <td>-0.183368</td>\n",
       "    </tr>\n",
       "  </tbody>\n",
       "</table>\n",
       "</div>"
      ],
      "text/plain": [
       "                   D         B         C         A\n",
       "2018-02-22  0.018263  1.019463  1.061723  0.903633\n",
       "2018-02-24  0.042444  0.687551  0.566321 -2.589921\n",
       "2018-02-20 -0.387111  0.378614 -0.758124  0.190794\n",
       "2018-02-23  0.839346 -0.887994 -0.732248  2.704307\n",
       "2018-02-21 -0.394940 -1.872854 -0.746217  0.753806\n",
       "2018-02-25  2.031385 -1.991175  2.101720 -0.183368"
      ]
     },
     "execution_count": 37,
     "metadata": {},
     "output_type": "execute_result"
    }
   ],
   "source": [
    "df2.sort_values(by='B', ascending=False)"
   ]
  },
  {
   "cell_type": "code",
   "execution_count": 40,
   "metadata": {
    "collapsed": true
   },
   "outputs": [],
   "source": [
    "df2[\"E\"] = np.random.randint(0, 6, size=6)\n",
    "df2[\"F\"] = [\"first\", \"second\", \"first\", \"third\", \"first\", \"second\"] "
   ]
  },
  {
   "cell_type": "code",
   "execution_count": 41,
   "metadata": {},
   "outputs": [
    {
     "data": {
      "text/html": [
       "<div>\n",
       "<style scoped>\n",
       "    .dataframe tbody tr th:only-of-type {\n",
       "        vertical-align: middle;\n",
       "    }\n",
       "\n",
       "    .dataframe tbody tr th {\n",
       "        vertical-align: top;\n",
       "    }\n",
       "\n",
       "    .dataframe thead th {\n",
       "        text-align: right;\n",
       "    }\n",
       "</style>\n",
       "<table border=\"1\" class=\"dataframe\">\n",
       "  <thead>\n",
       "    <tr style=\"text-align: right;\">\n",
       "      <th></th>\n",
       "      <th>D</th>\n",
       "      <th>B</th>\n",
       "      <th>C</th>\n",
       "      <th>A</th>\n",
       "      <th>E</th>\n",
       "      <th>F</th>\n",
       "    </tr>\n",
       "  </thead>\n",
       "  <tbody>\n",
       "    <tr>\n",
       "      <th>2018-02-23</th>\n",
       "      <td>0.839346</td>\n",
       "      <td>-0.887994</td>\n",
       "      <td>-0.732248</td>\n",
       "      <td>2.704307</td>\n",
       "      <td>0</td>\n",
       "      <td>first</td>\n",
       "    </tr>\n",
       "    <tr>\n",
       "      <th>2018-02-22</th>\n",
       "      <td>0.018263</td>\n",
       "      <td>1.019463</td>\n",
       "      <td>1.061723</td>\n",
       "      <td>0.903633</td>\n",
       "      <td>5</td>\n",
       "      <td>second</td>\n",
       "    </tr>\n",
       "    <tr>\n",
       "      <th>2018-02-25</th>\n",
       "      <td>2.031385</td>\n",
       "      <td>-1.991175</td>\n",
       "      <td>2.101720</td>\n",
       "      <td>-0.183368</td>\n",
       "      <td>2</td>\n",
       "      <td>first</td>\n",
       "    </tr>\n",
       "    <tr>\n",
       "      <th>2018-02-20</th>\n",
       "      <td>-0.387111</td>\n",
       "      <td>0.378614</td>\n",
       "      <td>-0.758124</td>\n",
       "      <td>0.190794</td>\n",
       "      <td>1</td>\n",
       "      <td>third</td>\n",
       "    </tr>\n",
       "    <tr>\n",
       "      <th>2018-02-21</th>\n",
       "      <td>-0.394940</td>\n",
       "      <td>-1.872854</td>\n",
       "      <td>-0.746217</td>\n",
       "      <td>0.753806</td>\n",
       "      <td>0</td>\n",
       "      <td>first</td>\n",
       "    </tr>\n",
       "    <tr>\n",
       "      <th>2018-02-24</th>\n",
       "      <td>0.042444</td>\n",
       "      <td>0.687551</td>\n",
       "      <td>0.566321</td>\n",
       "      <td>-2.589921</td>\n",
       "      <td>1</td>\n",
       "      <td>second</td>\n",
       "    </tr>\n",
       "  </tbody>\n",
       "</table>\n",
       "</div>"
      ],
      "text/plain": [
       "                   D         B         C         A  E       F\n",
       "2018-02-23  0.839346 -0.887994 -0.732248  2.704307  0   first\n",
       "2018-02-22  0.018263  1.019463  1.061723  0.903633  5  second\n",
       "2018-02-25  2.031385 -1.991175  2.101720 -0.183368  2   first\n",
       "2018-02-20 -0.387111  0.378614 -0.758124  0.190794  1   third\n",
       "2018-02-21 -0.394940 -1.872854 -0.746217  0.753806  0   first\n",
       "2018-02-24  0.042444  0.687551  0.566321 -2.589921  1  second"
      ]
     },
     "execution_count": 41,
     "metadata": {},
     "output_type": "execute_result"
    }
   ],
   "source": [
    "df2"
   ]
  },
  {
   "cell_type": "code",
   "execution_count": 42,
   "metadata": {},
   "outputs": [
    {
     "data": {
      "text/html": [
       "<div>\n",
       "<style scoped>\n",
       "    .dataframe tbody tr th:only-of-type {\n",
       "        vertical-align: middle;\n",
       "    }\n",
       "\n",
       "    .dataframe tbody tr th {\n",
       "        vertical-align: top;\n",
       "    }\n",
       "\n",
       "    .dataframe thead th {\n",
       "        text-align: right;\n",
       "    }\n",
       "</style>\n",
       "<table border=\"1\" class=\"dataframe\">\n",
       "  <thead>\n",
       "    <tr style=\"text-align: right;\">\n",
       "      <th></th>\n",
       "      <th>D</th>\n",
       "      <th>B</th>\n",
       "      <th>C</th>\n",
       "      <th>A</th>\n",
       "      <th>E</th>\n",
       "      <th>F</th>\n",
       "    </tr>\n",
       "  </thead>\n",
       "  <tbody>\n",
       "    <tr>\n",
       "      <th>2018-02-23</th>\n",
       "      <td>0.839346</td>\n",
       "      <td>-0.887994</td>\n",
       "      <td>-0.732248</td>\n",
       "      <td>2.704307</td>\n",
       "      <td>0</td>\n",
       "      <td>first</td>\n",
       "    </tr>\n",
       "    <tr>\n",
       "      <th>2018-02-21</th>\n",
       "      <td>-0.394940</td>\n",
       "      <td>-1.872854</td>\n",
       "      <td>-0.746217</td>\n",
       "      <td>0.753806</td>\n",
       "      <td>0</td>\n",
       "      <td>first</td>\n",
       "    </tr>\n",
       "    <tr>\n",
       "      <th>2018-02-24</th>\n",
       "      <td>0.042444</td>\n",
       "      <td>0.687551</td>\n",
       "      <td>0.566321</td>\n",
       "      <td>-2.589921</td>\n",
       "      <td>1</td>\n",
       "      <td>second</td>\n",
       "    </tr>\n",
       "    <tr>\n",
       "      <th>2018-02-20</th>\n",
       "      <td>-0.387111</td>\n",
       "      <td>0.378614</td>\n",
       "      <td>-0.758124</td>\n",
       "      <td>0.190794</td>\n",
       "      <td>1</td>\n",
       "      <td>third</td>\n",
       "    </tr>\n",
       "    <tr>\n",
       "      <th>2018-02-25</th>\n",
       "      <td>2.031385</td>\n",
       "      <td>-1.991175</td>\n",
       "      <td>2.101720</td>\n",
       "      <td>-0.183368</td>\n",
       "      <td>2</td>\n",
       "      <td>first</td>\n",
       "    </tr>\n",
       "    <tr>\n",
       "      <th>2018-02-22</th>\n",
       "      <td>0.018263</td>\n",
       "      <td>1.019463</td>\n",
       "      <td>1.061723</td>\n",
       "      <td>0.903633</td>\n",
       "      <td>5</td>\n",
       "      <td>second</td>\n",
       "    </tr>\n",
       "  </tbody>\n",
       "</table>\n",
       "</div>"
      ],
      "text/plain": [
       "                   D         B         C         A  E       F\n",
       "2018-02-23  0.839346 -0.887994 -0.732248  2.704307  0   first\n",
       "2018-02-21 -0.394940 -1.872854 -0.746217  0.753806  0   first\n",
       "2018-02-24  0.042444  0.687551  0.566321 -2.589921  1  second\n",
       "2018-02-20 -0.387111  0.378614 -0.758124  0.190794  1   third\n",
       "2018-02-25  2.031385 -1.991175  2.101720 -0.183368  2   first\n",
       "2018-02-22  0.018263  1.019463  1.061723  0.903633  5  second"
      ]
     },
     "execution_count": 42,
     "metadata": {},
     "output_type": "execute_result"
    }
   ],
   "source": [
    "df2.sort_values(by=['E','F'])"
   ]
  },
  {
   "cell_type": "code",
   "execution_count": 43,
   "metadata": {},
   "outputs": [
    {
     "data": {
      "text/plain": [
       "array(['first', 'second', 'third'], dtype=object)"
      ]
     },
     "execution_count": 43,
     "metadata": {},
     "output_type": "execute_result"
    }
   ],
   "source": [
    "df2['F'].unique() "
   ]
  },
  {
   "cell_type": "code",
   "execution_count": 44,
   "metadata": {},
   "outputs": [
    {
     "data": {
      "text/plain": [
       "first     3\n",
       "second    2\n",
       "third     1\n",
       "Name: F, dtype: int64"
      ]
     },
     "execution_count": 44,
     "metadata": {},
     "output_type": "execute_result"
    }
   ],
   "source": [
    "df2['F'].value_counts() "
   ]
  },
  {
   "cell_type": "code",
   "execution_count": 45,
   "metadata": {},
   "outputs": [
    {
     "data": {
      "text/html": [
       "<div>\n",
       "<style scoped>\n",
       "    .dataframe tbody tr th:only-of-type {\n",
       "        vertical-align: middle;\n",
       "    }\n",
       "\n",
       "    .dataframe tbody tr th {\n",
       "        vertical-align: top;\n",
       "    }\n",
       "\n",
       "    .dataframe thead th {\n",
       "        text-align: right;\n",
       "    }\n",
       "</style>\n",
       "<table border=\"1\" class=\"dataframe\">\n",
       "  <thead>\n",
       "    <tr style=\"text-align: right;\">\n",
       "      <th></th>\n",
       "      <th>b</th>\n",
       "      <th>d</th>\n",
       "      <th>e</th>\n",
       "    </tr>\n",
       "  </thead>\n",
       "  <tbody>\n",
       "    <tr>\n",
       "      <th>Seoul</th>\n",
       "      <td>-0.589925</td>\n",
       "      <td>1.093098</td>\n",
       "      <td>-1.376563</td>\n",
       "    </tr>\n",
       "    <tr>\n",
       "      <th>Incheon</th>\n",
       "      <td>0.604831</td>\n",
       "      <td>1.028401</td>\n",
       "      <td>-0.329153</td>\n",
       "    </tr>\n",
       "    <tr>\n",
       "      <th>Busan</th>\n",
       "      <td>-1.201493</td>\n",
       "      <td>0.310182</td>\n",
       "      <td>-0.578776</td>\n",
       "    </tr>\n",
       "    <tr>\n",
       "      <th>Daegu</th>\n",
       "      <td>-0.319419</td>\n",
       "      <td>0.052277</td>\n",
       "      <td>-1.369009</td>\n",
       "    </tr>\n",
       "  </tbody>\n",
       "</table>\n",
       "</div>"
      ],
      "text/plain": [
       "                b         d         e\n",
       "Seoul   -0.589925  1.093098 -1.376563\n",
       "Incheon  0.604831  1.028401 -0.329153\n",
       "Busan   -1.201493  0.310182 -0.578776\n",
       "Daegu   -0.319419  0.052277 -1.369009"
      ]
     },
     "execution_count": 45,
     "metadata": {},
     "output_type": "execute_result"
    }
   ],
   "source": [
    "df3 = pd.DataFrame(np.random.randn(4, 3), columns=[\"b\", \"d\", \"e\"],\n",
    "                   index=[\"Seoul\", \"Incheon\", \"Busan\", \"Daegu\"])  \n",
    "df3"
   ]
  },
  {
   "cell_type": "code",
   "execution_count": 52,
   "metadata": {
    "collapsed": true
   },
   "outputs": [],
   "source": [
    "my_func = lambda x : x.max() - x.min() "
   ]
  },
  {
   "cell_type": "code",
   "execution_count": 53,
   "metadata": {},
   "outputs": [
    {
     "data": {
      "text/plain": [
       "b    1.806324\n",
       "d    1.040821\n",
       "e    1.047410\n",
       "dtype: float64"
      ]
     },
     "execution_count": 53,
     "metadata": {},
     "output_type": "execute_result"
    }
   ],
   "source": [
    "df3.apply(my_func, axis=0) "
   ]
  },
  {
   "cell_type": "code",
   "execution_count": 54,
   "metadata": {},
   "outputs": [
    {
     "data": {
      "text/plain": [
       "Seoul      2.469662\n",
       "Incheon    1.357554\n",
       "Busan      1.511675\n",
       "Daegu      1.421286\n",
       "dtype: float64"
      ]
     },
     "execution_count": 54,
     "metadata": {},
     "output_type": "execute_result"
    }
   ],
   "source": [
    "df3.apply(my_func, axis=1)"
   ]
  },
  {
   "cell_type": "code",
   "execution_count": 55,
   "metadata": {},
   "outputs": [
    {
     "data": {
      "text/plain": [
       "b    1.806324\n",
       "d    1.040821\n",
       "e    1.047410\n",
       "dtype: float64"
      ]
     },
     "execution_count": 55,
     "metadata": {},
     "output_type": "execute_result"
    }
   ],
   "source": [
    "df3.apply( lambda x : x.max() - x.min() , axis=0) "
   ]
  },
  {
   "cell_type": "code",
   "execution_count": 51,
   "metadata": {
    "collapsed": true
   },
   "outputs": [],
   "source": [
    "#df3.apply?\n",
    "# docstring. 함수를 인자값으로 받는 함수 -> HOF(고차함수, 고계함수)\n",
    "# f3.apply(func, axis=0, ...) "
   ]
  }
 ],
 "metadata": {
  "kernelspec": {
   "display_name": "Python 3",
   "language": "python",
   "name": "python3"
  },
  "language_info": {
   "codemirror_mode": {
    "name": "ipython",
    "version": 3
   },
   "file_extension": ".py",
   "mimetype": "text/x-python",
   "name": "python",
   "nbconvert_exporter": "python",
   "pygments_lexer": "ipython3",
   "version": "3.6.3"
  }
 },
 "nbformat": 4,
 "nbformat_minor": 2
}
